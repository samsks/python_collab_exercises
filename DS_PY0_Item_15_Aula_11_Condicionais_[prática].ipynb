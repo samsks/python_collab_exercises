{
  "cells": [
    {
      "cell_type": "markdown",
      "metadata": {
        "id": "dsu3uJksx-M7"
      },
      "source": [
        "![dnc.png](data:image/png;base64,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)"
      ]
    },
    {
      "cell_type": "markdown",
      "metadata": {
        "id": "Mn_vGqswyBr0"
      },
      "source": [
        "<br>Consultor: Everton Menezes </br>"
      ]
    },
    {
      "cell_type": "markdown",
      "metadata": {
        "id": "xGapo2vByPhu"
      },
      "source": [
        "# Condicionais\n",
        "\n",
        "Os condicionais são utilizados para fazer comparações (condições) e caso elas sejam verdadeiras o nosso programa faz determinadas ações, e caso elas sejam falsas nosso programa faz outras ações."
      ]
    },
    {
      "cell_type": "markdown",
      "metadata": {
        "id": "e8uNOgEFyfu7"
      },
      "source": [
        "## Comparadores"
      ]
    },
    {
      "cell_type": "markdown",
      "metadata": {
        "id": "9MP8VLmcymuB"
      },
      "source": [
        "<b> Os principais comparadores utilizados são:</b><br>\n",
        "\n",
        "> a `==` b : Verifica se ***a*** é igual a ***b*** \n",
        "\n",
        "> a `!=` b : Verifica se ***a*** é diferente de ***b*** \n",
        "\n",
        "> a `> ` b : Verifica se ***a*** é maior que ***b*** \n",
        "\n",
        "> a `>=` b : Verifica se ***a*** é maior ou igual a ***b*** \n",
        "\n",
        "> a `< ` b : Verifica se ***a*** é menor que ***b*** \n",
        "\n",
        "> a `<=` b : Verifica se ***a*** é menor ou igual a ***b*** \n",
        "\n",
        "A resposta da comparação sempre será um Booleano: `True` | `False`"
      ]
    },
    {
      "cell_type": "code",
      "execution_count": null,
      "metadata": {
        "id": "cP0BbpnO1PnC"
      },
      "outputs": [],
      "source": [
        "# Declarando variáveis:\n",
        "a, b = 7, 2"
      ]
    },
    {
      "cell_type": "code",
      "execution_count": null,
      "metadata": {
        "colab": {
          "base_uri": "https://localhost:8080/"
        },
        "id": "qG0X0cUX1Ua4",
        "outputId": "9c55b86e-fc8f-47ec-d043-64fb2282da2e"
      },
      "outputs": [
        {
          "name": "stdout",
          "output_type": "stream",
          "text": [
            "False\n"
          ]
        }
      ],
      "source": [
        "# a == b\n",
        "print(a == b)"
      ]
    },
    {
      "cell_type": "code",
      "execution_count": null,
      "metadata": {
        "colab": {
          "base_uri": "https://localhost:8080/"
        },
        "id": "uc7Okunc1cvX",
        "outputId": "9c000dff-2872-416a-deea-1a9fca3f3980"
      },
      "outputs": [
        {
          "name": "stdout",
          "output_type": "stream",
          "text": [
            "True\n"
          ]
        }
      ],
      "source": [
        "# a != b\n",
        "print(a != b)"
      ]
    },
    {
      "cell_type": "code",
      "execution_count": null,
      "metadata": {
        "colab": {
          "base_uri": "https://localhost:8080/"
        },
        "id": "ykURydWb1clh",
        "outputId": "a061594a-7de0-4c45-a1be-31fc1943d05f"
      },
      "outputs": [
        {
          "name": "stdout",
          "output_type": "stream",
          "text": [
            "True\n"
          ]
        }
      ],
      "source": [
        "# a > b\n",
        "print(a > b)"
      ]
    },
    {
      "cell_type": "code",
      "execution_count": null,
      "metadata": {
        "colab": {
          "base_uri": "https://localhost:8080/"
        },
        "id": "EeqjPtWY1cau",
        "outputId": "2d6d397c-5d7d-4672-cb87-0c5773031454"
      },
      "outputs": [
        {
          "name": "stdout",
          "output_type": "stream",
          "text": [
            "True\n"
          ]
        }
      ],
      "source": [
        "# a >= b\n",
        "print(a >= b)"
      ]
    },
    {
      "cell_type": "code",
      "execution_count": null,
      "metadata": {
        "colab": {
          "base_uri": "https://localhost:8080/"
        },
        "id": "5BwSEfyO1cLg",
        "outputId": "cb86f7ea-c904-4ef7-8989-db8078ad59cc"
      },
      "outputs": [
        {
          "name": "stdout",
          "output_type": "stream",
          "text": [
            "False\n"
          ]
        }
      ],
      "source": [
        "# a < b\n",
        "print(a < b)"
      ]
    },
    {
      "cell_type": "code",
      "execution_count": null,
      "metadata": {
        "colab": {
          "base_uri": "https://localhost:8080/"
        },
        "id": "mG4cGgNs1b3K",
        "outputId": "5bf9379d-8594-4105-c672-f77f8357b3ac"
      },
      "outputs": [
        {
          "name": "stdout",
          "output_type": "stream",
          "text": [
            "False\n"
          ]
        }
      ],
      "source": [
        "# a <= b\n",
        "print( a <= b)"
      ]
    },
    {
      "cell_type": "markdown",
      "metadata": {
        "id": "DzLvGpYc1w-J"
      },
      "source": [
        "<h1> Exercícios de Comparadores </h1>"
      ]
    },
    {
      "cell_type": "markdown",
      "metadata": {
        "id": "WDXElJix2Tk6"
      },
      "source": [
        "1. Faça um programa que pede para um usuário digitar 2 números e compare se eles são iguais."
      ]
    },
    {
      "cell_type": "code",
      "execution_count": null,
      "metadata": {
        "colab": {
          "background_save": true,
          "base_uri": "https://localhost:8080/"
        },
        "id": "2L_HxQOJ2S8F",
        "outputId": "fec43955-456a-4d24-bcd4-b1b621085756"
      },
      "outputs": [
        {
          "name": "stdout",
          "output_type": "stream",
          "text": [
            "Digite números válidos\n",
            "Digite números válidos\n"
          ]
        }
      ],
      "source": [
        "# Pedindo inputs\n",
        "c, d = '', ''\n",
        "\n",
        "while type(c) != float and type(d) != float:\n",
        "    c = input('Digite o primeiro número: ')\n",
        "    d = input('Digite o segundo número: ')\n",
        "\n",
        "    if c.isnumeric() and d.isnumeric():\n",
        "        c, d = float(c), float(d)\n",
        "        print(c == d)\n",
        "    else:\n",
        "        print('Digite números válidos')"
      ]
    },
    {
      "cell_type": "markdown",
      "metadata": {
        "id": "xbsjrO1u3HjN"
      },
      "source": [
        "2. Agora compare se a variável 1 digitada é maior ou igual a variável 2"
      ]
    },
    {
      "cell_type": "code",
      "execution_count": null,
      "metadata": {
        "colab": {
          "base_uri": "https://localhost:8080/"
        },
        "id": "pSMXsPdk3HHQ",
        "outputId": "8153fd51-6753-4f83-8c83-60749dcdd3d1"
      },
      "outputs": [
        {
          "name": "stdout",
          "output_type": "stream",
          "text": [
            "True\n"
          ]
        }
      ],
      "source": [
        "comparacao = (c >= d )\n",
        "# Imprimindo comparação\n",
        "\n",
        "print( c >= d )"
      ]
    },
    {
      "cell_type": "markdown",
      "metadata": {
        "id": "DI8FF9DM3n-7"
      },
      "source": [
        "3. Dado o preço do lanche = 10.90 e da batata de 5.40. Calcule quanto vai sair a conta do usuário. O usuário deve inserir a quantidade de lanches que ele quer e a quantidade de batatas.\n",
        "Finalmente peça para o usuário falar quanto dinheiro ele tem na carteira e verifique se ele vai consegui pagar a conta."
      ]
    },
    {
      "cell_type": "code",
      "execution_count": null,
      "metadata": {
        "id": "YBVTudk_3nRk",
        "colab": {
          "base_uri": "https://localhost:8080/"
        },
        "outputId": "a3a43f08-bef9-472a-81ff-13e2219fd801"
      },
      "outputs": [
        {
          "output_type": "stream",
          "name": "stdout",
          "text": [
            "Digite a quantidade de lanche: \n",
            "[1] 1 Lanche \n",
            "[2] 2 Lanches \n",
            "[3] 3 Lanches \n",
            "3\n",
            "Digite a quantidade de batata: \n",
            "[1] 1 Batata \n",
            "[2] 2 Batatas \n",
            "[3] 3 Batatas \n",
            "1\n",
            "Quanto dinheiro você tem? 40\n",
            "A sua compra total ficou em: R$38.10\n",
            "Você tem dinheiro suficiente para pagar: True \n"
          ]
        }
      ],
      "source": [
        "# Declarando variáveis\n",
        "\n",
        "lanche_preco = 10.90\n",
        "batata_preco = 5.40\n",
        "lanche_qtd = 0\n",
        "batata_qtd = 0\n",
        "dinheiro_qtd = float\n",
        "total_preco = float\n",
        "\n",
        "# Calculando custo total\n",
        "\n",
        "\n",
        "while lanche_qtd > 3 or lanche_qtd < 1:\n",
        "    lanche_qtd = int(input ('Digite a quantidade de lanche: \\n[1] 1 Lanche \\n[2] 2 Lanches \\n[3] 3 Lanches \\n'))\n",
        "\n",
        "while batata_qtd > 3 or batata_qtd < 1:\n",
        "    batata_qtd = int(input ('Digite a quantidade de batata: \\n[1] 1 Batata \\n[2] 2 Batatas \\n[3] 3 Batatas \\n'))\n",
        "\n",
        "dinheiro_qtd = float(input ('Quanto dinheiro você tem? '))\n",
        "\n",
        "total_preco = lanche_qtd * lanche_preco + batata_qtd * batata_preco\n",
        "consegue_pagar = dinheiro_qtd >= total_preco\n",
        "\n",
        "\n",
        "# Imprimindo resposta\n",
        "\n",
        "print ('A sua compra total ficou em: R${:.2f}'.format(total_preco))\n",
        "\n",
        "print ('Você tem dinheiro suficiente para pagar: {} '.format(consegue_pagar))\n"
      ]
    },
    {
      "cell_type": "markdown",
      "metadata": {
        "id": "ah4rntx_4-HA"
      },
      "source": [
        "## Condicionais simples if-else\n",
        "\n",
        "As condicionais simples possuem somente 2 caminhos para se seguir: o caminho verdadeiro e o falso. Após fazer a condição pelo if o programa vai seguir caminhos diferentes."
      ]
    },
    {
      "cell_type": "markdown",
      "metadata": {
        "id": "gKqBhf-85ktK"
      },
      "source": [
        "<h1> Estrutura do if-else </h1>\n",
        "\n",
        "```\n",
        "if condicao:\n",
        "  Bloco verdadeiro\n",
        "else:\n",
        "  Bloco falso\n",
        "```\n",
        "\n",
        "<h3> Pontos de atenção: </h3>\n",
        "\n",
        "*   Não esqueça dos `:`\n",
        "*   Não esqueça da `indentação`"
      ]
    },
    {
      "cell_type": "code",
      "execution_count": null,
      "metadata": {
        "colab": {
          "base_uri": "https://localhost:8080/"
        },
        "id": "DXfNHBVnDYG9",
        "outputId": "309a9be0-7a0f-4348-d7d8-d43cd80a5df1"
      },
      "outputs": [
        {
          "output_type": "stream",
          "name": "stdout",
          "text": [
            "Verdadeiro\n"
          ]
        }
      ],
      "source": [
        "# Exemplo True - False\n",
        "if True:\n",
        "    print('Verdadeiro')\n",
        "else:\n",
        "    print('Falso')\n"
      ]
    },
    {
      "cell_type": "markdown",
      "metadata": {
        "id": "0di5lY497D3F"
      },
      "source": [
        "<h3> Exemplo 1 </h3>\n",
        "Dadas as variáveis:\n",
        "\n",
        "a = 2\n",
        "\n",
        "b = 3\n",
        "\n",
        "Compare se a == b e imprima uma mensagem de resultado."
      ]
    },
    {
      "cell_type": "code",
      "execution_count": null,
      "metadata": {
        "id": "Eo7GuxBQ7DMj"
      },
      "outputs": [],
      "source": [
        "# Declarando as variáveis\n",
        "a = 2\n",
        "b = 3"
      ]
    },
    {
      "cell_type": "code",
      "execution_count": null,
      "metadata": {
        "colab": {
          "base_uri": "https://localhost:8080/"
        },
        "id": "QoytUlJk8BaL",
        "outputId": "0ad6fec4-0bf4-424a-aa83-b1fdbd2f17bb"
      },
      "outputs": [
        {
          "output_type": "stream",
          "name": "stdout",
          "text": [
            "A variável a, que vale 2 é diferente a variável b, que vale 3\n"
          ]
        }
      ],
      "source": [
        "# Desenhando o if\n",
        "if a == b:\n",
        "\n",
        "  print('A variável a, que vale {} é igual a variável b'.format(a))\n",
        "\n",
        "else:\n",
        "\n",
        "  print('A variável a, que vale {} é diferente a variável b, que vale {}'.format(a,b))\n",
        "\n",
        "\n"
      ]
    },
    {
      "cell_type": "markdown",
      "metadata": {
        "id": "CaFq9p1x8DeC"
      },
      "source": [
        "Agora... mude a variável:\n",
        "\n",
        "b = 2\n",
        "\n",
        "e execute o mesmo código anterior"
      ]
    },
    {
      "cell_type": "code",
      "execution_count": null,
      "metadata": {
        "id": "YsBRHyMF8Lqx",
        "colab": {
          "base_uri": "https://localhost:8080/"
        },
        "outputId": "98c8cc38-fbab-4a22-8ce9-6c907df3d1be"
      },
      "outputs": [
        {
          "output_type": "stream",
          "name": "stdout",
          "text": [
            "A variável a, que vale 2 é igual a variável b\n"
          ]
        }
      ],
      "source": [
        "# Redefinindo b\n",
        "b = 2\n",
        "\n",
        "if a == b:\n",
        "\n",
        "  print('A variável a, que vale {} é igual a variável b'.format(a))\n",
        "\n",
        "else:\n",
        "\n",
        "  print('A variável a, que vale {} é diferente a variável b, que vale {}'.format(a,b))"
      ]
    },
    {
      "cell_type": "markdown",
      "metadata": {
        "id": "XPdDrqoV8ZbC"
      },
      "source": [
        "<h3> Exemplo 2 </h3>\n",
        "\n",
        "1. Faça um programa que pede para um usuário digitar 2 números e:\n",
        "\n",
        "*   Se num1 >= num2 então multiplique o num2 por 5\n",
        "*   Caso contrário, multiplique o num1 por 5"
      ]
    },
    {
      "cell_type": "code",
      "execution_count": null,
      "metadata": {
        "colab": {
          "base_uri": "https://localhost:8080/"
        },
        "id": "DIhYhyO19Xdy",
        "outputId": "c3519528-193e-49e8-ec4c-f042e02847c1"
      },
      "outputs": [
        {
          "output_type": "stream",
          "name": "stdout",
          "text": [
            "Digite o primeiro número:12\n",
            "Digite o segundo número:2\n",
            "Seu segundo número foi multiplicado por 5. Seu resultado, foi: 10.0\n"
          ]
        }
      ],
      "source": [
        "# Pedindo inputs\n",
        "primeiro_num = float (input('Digite o primeiro número:'))\n",
        "segundo_num = float (input('Digite o segundo número:'))\n",
        "num2 = segundo_num * 5\n",
        "num1 = primeiro_num * 5\n",
        "\n",
        "# Fazendo o if\n",
        "\n",
        "print('Seu segundo número foi multiplicado por 5. Seu resultado, foi: {}'.format(num2)) if primeiro_num >= segundo_num else print('Seu primeiro número foi multiplicado por 5. Seu resultado, foi: {}'.format(num1))\n",
        "\n"
      ]
    },
    {
      "cell_type": "code",
      "execution_count": null,
      "metadata": {
        "id": "rYdCj_-oMm4N"
      },
      "outputs": [],
      "source": []
    },
    {
      "cell_type": "markdown",
      "metadata": {
        "id": "53hsil9C-ubq"
      },
      "source": [
        "## Condicionais aninhados if-elif-else\n",
        "\n",
        "Esses condicionais são utilizados quando não temos somente 2 casos (True e False), mas sim quando temos vários casos"
      ]
    },
    {
      "cell_type": "markdown",
      "metadata": {
        "id": "fzn37wwE-9pV"
      },
      "source": [
        "<h1> Estrutura do if-elif-else </h1>\n",
        "\n",
        "```\n",
        "if condicao1:\n",
        "  Bloco condicao1 verdadeiro\n",
        "elif condicao2:\n",
        "  Bloco condicao2 verdadeiro\n",
        "  .\n",
        "  .\n",
        "  .\n",
        "else:\n",
        "  Bloco falso\n",
        "```"
      ]
    },
    {
      "cell_type": "markdown",
      "metadata": {
        "id": "mkkDTQw8_Ttd"
      },
      "source": [
        "<h2> Exemplo </h2>\n",
        "Dadas as variáveis:\n",
        "\n",
        "a = 2\n",
        "\n",
        "b = 3\n",
        "\n",
        "Compare e mostre para o usuário se uma é igual a outra ou se uma é maior que outra, e neste caso, qual é a maior."
      ]
    },
    {
      "cell_type": "code",
      "execution_count": null,
      "metadata": {
        "colab": {
          "base_uri": "https://localhost:8080/"
        },
        "id": "IeYvZN8C-8lA",
        "outputId": "c8bfd768-1f28-4cbb-8378-98664a53d32f"
      },
      "outputs": [
        {
          "output_type": "stream",
          "name": "stdout",
          "text": [
            "a é maior do que b\n",
            "fim\n"
          ]
        }
      ],
      "source": [
        "# Declarando as variáveis\n",
        "a = 3\n",
        "b = 1\n",
        "# Montando o if-elif-else\n",
        "if a == b:\n",
        "    print('a é igual a b')\n",
        "elif a < b:\n",
        "    print('a é menor do que b')\n",
        "else:\n",
        "    print('a é maior do que b')\n",
        "print('fim')"
      ]
    },
    {
      "cell_type": "markdown",
      "metadata": {
        "id": "5WAZpJMH_-kA"
      },
      "source": [
        "<h2> Exemplo 2 </h2>\n",
        "\n",
        "Agora faça um programa no qual o usuário vai digitar os 2 números e você fará essas comparações.\n",
        "\n"
      ]
    },
    {
      "cell_type": "code",
      "execution_count": null,
      "metadata": {
        "colab": {
          "base_uri": "https://localhost:8080/"
        },
        "id": "keKfaHQ4AKbX",
        "outputId": "70b264bb-57fd-4f6b-c6b4-7f8ec5016a79"
      },
      "outputs": [
        {
          "output_type": "stream",
          "name": "stdout",
          "text": [
            "Digite o primeiro número: 34\n",
            "Digite o segundo número: 325\n",
            "34 é menor do que 325\n",
            "fim\n"
          ]
        }
      ],
      "source": [
        "# Declarando as variáveis\n",
        "\n",
        "a = int(input('Digite o primeiro número: '))\n",
        "b = int(input('Digite o segundo número: '))\n",
        "\n",
        "# Montando o if-elif-else\n",
        "if a == b:\n",
        "    print(f'{a} é igual a {b}')\n",
        "elif a < b:\n",
        "    print(f'{a} é menor do que {b}')\n",
        "else:\n",
        "    print(f'{a} é maior do que {b}')\n",
        "print('fim')\n"
      ]
    },
    {
      "cell_type": "markdown",
      "metadata": {
        "id": "QdSZJR_xApNo"
      },
      "source": [
        "<h2> Exemplo 3 </h2>\n",
        "\n",
        "Faça um programa que o usuário vai digitar a vontade do que ele está de comer alguma coisa.\n",
        "\n",
        "Caso este input seja:\n",
        "\n",
        "* Lanche : então imprima : \"Vá ao Méqui\"\n",
        "\n",
        "* Pizza : então imprima : \"Vá ao Hut\"\n",
        "\n",
        "* Mexicano : então imprima : \"Vá ao Bell\"\n",
        "\n",
        "* Caso contrário : então imprima: \"Tente novamente\""
      ]
    },
    {
      "cell_type": "code",
      "execution_count": null,
      "metadata": {
        "colab": {
          "base_uri": "https://localhost:8080/"
        },
        "id": "5OWad-opOwpv",
        "outputId": "31ed1be4-afdd-4a48-dd3f-1fd356cbd966"
      },
      "outputs": [
        {
          "output_type": "stream",
          "name": "stdout",
          "text": [
            "Digite o que está com vontade de comer: \n",
            "[1] Lanche \n",
            "[2] Pizza \n",
            "[3] Mexicano \n",
            "2\n",
            "Vá ao Hut\n"
          ]
        }
      ],
      "source": [
        "\n",
        "vontade = input('Digite o que está com vontade de comer: \\n[1] Lanche \\n[2] Pizza \\n[3] Mexicano \\n')\n",
        "\n",
        "if vontade.isnumeric():\n",
        "    vontade = int(vontade)\n",
        "else:\n",
        "    exit('Dado inválido')\n",
        "\n",
        "\n",
        "if vontade == 1:\n",
        "    print('Vá ao Méqui')\n",
        "elif vontade == 2:\n",
        "    print('Vá ao Hut')\n",
        "elif vontade == 3:\n",
        "    print('Vá ao Bell')\n",
        "else:\n",
        "    print('Tente novamente')"
      ]
    },
    {
      "cell_type": "markdown",
      "metadata": {
        "id": "XezVkckndHnk"
      },
      "source": [
        "## Operadores Lógicos\n",
        "\n",
        "Os operadores lógicos são usados quando precisamos de múltiplas condições em 1 só if"
      ]
    },
    {
      "cell_type": "markdown",
      "metadata": {
        "id": "t4oWC7VVdRJS"
      },
      "source": [
        "**negrito**> `and` : ambas as condições precisam ser satisfeitas simultaneamente\n",
        "\n",
        "> `or` : pelo menos 1 condição precisa ser satisfeita\n",
        "\n",
        "```\n",
        "True and True : True\n",
        "True and False : False\n",
        "True or False : True\n",
        "False or True : True\n",
        "False or False : False\n",
        "```\n"
      ]
    },
    {
      "cell_type": "markdown",
      "metadata": {
        "id": "IC46_mpQdUVn"
      },
      "source": [
        "<h2> Exemplo 1 </h2>\n",
        "\n",
        "Se eu tiver mais que 20 reais e o preço do lanche for menor que 10 reais então eu compro o lanche:"
      ]
    },
    {
      "cell_type": "code",
      "execution_count": null,
      "metadata": {
        "id": "Zxpqgg6EdOvB",
        "colab": {
          "base_uri": "https://localhost:8080/"
        },
        "outputId": "50192f7e-3f1d-4c87-c49d-b4f2ba28181d"
      },
      "outputs": [
        {
          "output_type": "stream",
          "name": "stdout",
          "text": [
            "Digite o preço do lanche: 19\n",
            "Digite quanto tem de dinheiro: 7\n",
            "Não comprarei o lanche\n"
          ]
        }
      ],
      "source": [
        "lanche_preco = input('Digite o preço do lanche: ')\n",
        "saldo = input('Digite quanto tem de dinheiro: ')\n",
        "\n",
        "if lanche_preco.isnumeric() and saldo.isnumeric():\n",
        "    lanche_preco, saldo = float(lanche_preco), float(saldo)\n",
        "else:\n",
        "    exit('Tente novamente com valores válidos')\n",
        "\n",
        "if saldo >= 20 and lanche_preco < 10:\n",
        "    print('Compro o lanche')\n",
        "else:\n",
        "    print('Não comprarei o lanche')"
      ]
    },
    {
      "cell_type": "markdown",
      "metadata": {
        "id": "IxMylkajdYS0"
      },
      "source": [
        "<h2> Exemplo 2 </h2>\n",
        "\n",
        "Se você tiver média nas notas > 7 ou nota na prova final > 7 você está aprovado."
      ]
    },
    {
      "cell_type": "code",
      "execution_count": null,
      "metadata": {
        "id": "19bwS1gQdZyR",
        "colab": {
          "base_uri": "https://localhost:8080/"
        },
        "outputId": "b6a686a8-dfd3-4411-db6c-0faf20b19502"
      },
      "outputs": [
        {
          "output_type": "stream",
          "name": "stdout",
          "text": [
            "Reprovado\n"
          ]
        }
      ],
      "source": [
        "media = 6\n",
        "prova_final = 6\n",
        "\n",
        "if media > 7 or prova_final > 7:\n",
        "    print('Aprovado')\n",
        "else:\n",
        "    print('Reprovado')"
      ]
    },
    {
      "cell_type": "markdown",
      "metadata": {
        "id": "Z2n03UzbdcoG"
      },
      "source": [
        "# Verificando Variáveis\n",
        "\n",
        "Esta funcionalidade é muito usada para testar e saber se podemos converter as variáveis dadas pelo usuário."
      ]
    },
    {
      "cell_type": "markdown",
      "metadata": {
        "id": "r25150ecdfBN"
      },
      "source": [
        "> `.isnumeric( )` : #o input é numérico\n",
        "\n",
        "> `.isalpha( )` : #o input é texto\n",
        "\n",
        "> `.isalnum( )` : #o input é texto + num"
      ]
    },
    {
      "cell_type": "markdown",
      "metadata": {
        "id": "NMkrrJUtdhBM"
      },
      "source": [
        "<h2> Exemplo </h2>\n",
        "\n",
        "Peça para o usuário digitar alguma coisa e verifique o que é:"
      ]
    },
    {
      "cell_type": "code",
      "execution_count": null,
      "metadata": {
        "id": "gNz1JXhwdi-8",
        "colab": {
          "base_uri": "https://localhost:8080/"
        },
        "outputId": "9fabab44-9e69-4ab4-dcdc-58f757de1620"
      },
      "outputs": [
        {
          "name": "stdout",
          "output_type": "stream",
          "text": [
            "Digite alguma coisa: 2.0\n"
          ]
        }
      ],
      "source": [
        "variavel = input('Digite alguma coisa: ')\n",
        "\n",
        "if variavel.isnumeric():\n",
        "    print('O valor digitado é um número!')\n",
        "# elif variavel.isdecimal():\n",
        "#     print('O valor é um float!')\n",
        "elif variavel.isalpha():\n",
        "    print('O valor é uma string')\n",
        "elif variavel.isalnum():\n",
        "    print('O valor digitado é um numero com string')\n"
      ]
    },
    {
      "cell_type": "markdown",
      "metadata": {
        "id": "KOZpI7mldj_Z"
      },
      "source": [
        "# Exercícios"
      ]
    },
    {
      "cell_type": "markdown",
      "metadata": {
        "id": "0xGNvmTZMMUx"
      },
      "source": [
        "# Nova secção"
      ]
    },
    {
      "cell_type": "markdown",
      "metadata": {
        "id": "HZZy1W73doX-"
      },
      "source": [
        "<h2> Exercício 1: </h2>\n",
        "\n",
        "Faça um programa que verifique se o usuário digitou um valor numérico ou não.\n",
        "\n",
        "* Caso Verdadeiro, imprima: 'Esse input é um número'\n",
        "\n",
        "* Caso Falso, imprima: 'Esse input não é um número, tente novamente'\n"
      ]
    },
    {
      "cell_type": "code",
      "execution_count": null,
      "metadata": {
        "id": "yel1IF1ydpzs",
        "colab": {
          "base_uri": "https://localhost:8080/"
        },
        "outputId": "b23c57be-f35e-42a4-c768-95e304d9ee5d"
      },
      "outputs": [
        {
          "output_type": "stream",
          "name": "stdout",
          "text": [
            "Digite um valor: 3445\n",
            "Esse input é um número\n"
          ]
        }
      ],
      "source": [
        "valor = input('Digite um valor: ')\n",
        "\n",
        "if valor.isnumeric():\n",
        "    print('Esse input é um número')\n",
        "else:\n",
        "    print('Esse input não é um número, tente novamente')"
      ]
    },
    {
      "cell_type": "markdown",
      "metadata": {
        "id": "O-bH-WFKdrK9"
      },
      "source": [
        "<h2> Exercício 2: </h2>\n",
        "\n",
        "Peça para o usuário digitar um número e verifique se ele é par e imprima para o usuário essa informação.\n",
        "\n",
        "Dica: números pares quando são divididos por 2 possuem resto = 0"
      ]
    },
    {
      "cell_type": "code",
      "execution_count": null,
      "metadata": {
        "id": "5hllpCqKds-_",
        "colab": {
          "base_uri": "https://localhost:8080/"
        },
        "outputId": "d3615e83-1425-4fff-aaca-b3710c2bc40d"
      },
      "outputs": [
        {
          "output_type": "stream",
          "name": "stdout",
          "text": [
            "Insira um número: 1234\n",
            "O número é par\n"
          ]
        }
      ],
      "source": [
        "num_par = int(input('Insira um número: '))\n",
        "\n",
        "if num_par % 2 == 0:\n",
        "    print('O número é par')\n",
        "else:\n",
        "    print('O númeroa é impar')\n"
      ]
    },
    {
      "cell_type": "markdown",
      "metadata": {
        "id": "c9klAnx-dtQa"
      },
      "source": [
        "<h2> Exercício 3: </h2>\n",
        "\n",
        "Faça um programa no qual o usuário insira 2 inteiros. Verifique se o número 1 é divisível pelo número 2. Imprima essa informação para o usuário."
      ]
    },
    {
      "cell_type": "code",
      "execution_count": null,
      "metadata": {
        "id": "gIB2qixZdt9H",
        "colab": {
          "base_uri": "https://localhost:8080/"
        },
        "outputId": "d0f1cd92-cf29-4723-ced6-190128369260"
      },
      "outputs": [
        {
          "output_type": "stream",
          "name": "stdout",
          "text": [
            "Digite o primeiro número: 15\n",
            "Digite o segundo número: 6\n",
            "15 é divisivel por 6, mas não é uma divisão inteira\n"
          ]
        }
      ],
      "source": [
        "num_um = int(input('Digite o primeiro número: '))\n",
        "num_dois = int(input('Digite o segundo número: '))\n",
        "\n",
        "if num_um % num_dois == 0:\n",
        "    print(f'{num_um} é divisivel inteiramente por {num_dois}')\n",
        "elif num_um > num_dois:\n",
        "    print(f'{num_um} é divisivel por {num_dois}, mas não é uma divisão inteira')\n",
        "else:\n",
        "    print(f'{num_um} não é divisivel por {num_dois}')"
      ]
    },
    {
      "cell_type": "markdown",
      "metadata": {
        "id": "1aLL6abedwwK"
      },
      "source": [
        "<h2> Desafio - calculadora: </h2>\n",
        "\n",
        "Faça um programa no qual o usuário vai digitar 2 números e também o tipo de operação que ele gostaria que fosse feita:\n",
        "\n",
        "* Soma\n",
        "* Subtração\n",
        "* Divisão\n",
        "* Multiplicação\n",
        "* Potência\n",
        "\n",
        "Imprima o resultado para o usuário da operação:\n",
        "\n",
        "Num1  `Operação`  Num2\n",
        "\n",
        "Caso o usuário não digite uma operação válida, dê uma mensagem de erro!"
      ]
    },
    {
      "cell_type": "code",
      "execution_count": null,
      "metadata": {
        "id": "VNXoWYDKdym5",
        "colab": {
          "base_uri": "https://localhost:8080/"
        },
        "outputId": "74504bbd-d066-43e1-96cf-a5a20c2e10ef"
      },
      "outputs": [
        {
          "output_type": "stream",
          "name": "stdout",
          "text": [
            "Fator 1: 12\n",
            "Operador: *\n",
            "Fator 2: 12\n",
            "12.0 * 12.0 = 144.0\n"
          ]
        }
      ],
      "source": [
        "num1 = float(input('Fator 1: '))\n",
        "operador = input('Operador: ')\n",
        "operadores_permitidos = \"+-x*/**\"\n",
        "num2 = float(input('Fator 2: '))\n",
        "\n",
        "def calculo(sinal):\n",
        "    if sinal == '+':\n",
        "        return num1 + num2\n",
        "    elif sinal == '-':\n",
        "        return num1 - num2\n",
        "    elif sinal == '*' or sinal == 'x':\n",
        "        return num1 * num2\n",
        "    elif sinal == '/':\n",
        "        return num1 / num2\n",
        "    elif sinal == '**':\n",
        "        return num1 ** num2\n",
        "\n",
        "if operador not in operadores_permitidos:\n",
        "    print('Operador inválido')\n",
        "else:\n",
        "    print('{} {} {} = {}'.format(num1, operador, num2, calculo(operador)))\n",
        "\n"
      ]
    }
  ],
  "metadata": {
    "colab": {
      "provenance": [],
      "toc_visible": true,
      "include_colab_link": true
    },
    "kernelspec": {
      "display_name": "Python 3",
      "name": "python3"
    },
    "language_info": {
      "name": "python"
    }
  },
  "nbformat": 4,
  "nbformat_minor": 0
}
