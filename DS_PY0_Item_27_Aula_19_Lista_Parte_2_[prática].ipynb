{
  "nbformat": 4,
  "nbformat_minor": 0,
  "metadata": {
    "colab": {
      "provenance": []
    },
    "kernelspec": {
      "name": "python3",
      "display_name": "Python 3"
    },
    "language_info": {
      "name": "python"
    }
  },
  "cells": [
    {
      "cell_type": "markdown",
      "metadata": {
        "id": "dsu3uJksx-M7"
      },
      "source": [
        "![dnc.png](data:image/png;base64,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)"
      ]
    },
    {
      "cell_type": "markdown",
      "metadata": {
        "id": "Mn_vGqswyBr0"
      },
      "source": [
        "<br>Consultor: Everton Menezes </br>"
      ]
    },
    {
      "cell_type": "markdown",
      "metadata": {
        "id": "99zA4INuNrJx"
      },
      "source": [
        "# Listas dentro de Listas\n",
        "\n",
        "As listas aceitam qualquer tipo de dados, até outras listas."
      ]
    },
    {
      "cell_type": "markdown",
      "metadata": {
        "id": "BynqPgYFNy6-"
      },
      "source": [
        "## Declarando uma lista composta\n",
        "\n",
        "Para declarar uma lista composta é só colocar uma lista dentro da outra"
      ]
    },
    {
      "cell_type": "markdown",
      "metadata": {
        "id": "z_X46qWcON0P"
      },
      "source": [
        "<h2> Entendendo como as listas compostas funcionam </h2>\n",
        "\n",
        "Imagina que eu tenho um cardápio. Dentro dele eu tenho vários comidas com seus respectivos preços.\n",
        "\n",
        "O cardápio seria então uma lista com todas as comidas\n",
        "\n",
        "Cada comida vai ser uma lista com o Nome da Comida e o seu Preço.\n",
        "\n",
        "```\n",
        "comida1 = ['Lanche', 10.9] \n",
        "comida2 = ['Batata',  5.5]\n",
        "comida3 = ['Refri' ,  3.9]\n",
        "cardapio = [comida1, comida2, comida3]\n",
        "```\n",
        "Então acessando os termos temos:\n",
        "```\n",
        "cardapio[0]    == comida1 == ['Lanche', 10.9]\n",
        "cardapio[0][1] == comida1[1] == 10.0\n",
        "cardapio[2]    == comida3 == ['Refri' ,  3.9]\n",
        "cardapio[2][0] == comida3[0] == 'Refri'\n",
        "```\n",
        "Vamos pegar uma lista dentro de outra lista já declarada e vamos entender como funciona acessar seus termos.\n",
        "\n",
        "<h3> Exemplo 1 </h3>\n",
        "\n",
        "Dado a lista abaixo:\n",
        "```\n",
        "cardapio = [['Lanche', 10.9], ['Batata',  5.5], ['Refri' ,  3.9]]\n",
        "```\n",
        "Acesse os valores:\n",
        "1. `cardapio[0]`, `cardapio[1]` e `cardapio[2]`\n",
        "2. `cardapio[0][0]`, `cardapio[0][1]`, `cardapio[1][0]`, `cardapio[1][1]`\n",
        "Repare nos tipos de cada variável"
      ]
    },
    {
      "cell_type": "code",
      "metadata": {
        "colab": {
          "base_uri": "https://localhost:8080/"
        },
        "id": "BA80Nqs7GO45",
        "outputId": "d3bd54a7-cbcf-4522-f70f-8a23f04aa065"
      },
      "source": [
        "# Declarando a lista de listas:\n",
        "cardapio = [['Lanche', 10.9], ['Batata',  5.5], ['Refri' ,  3.9]]\n",
        "# Imprimindo os valores:\n",
        "\n",
        "print(cardapio[0])\n",
        "print(cardapio[1])\n",
        "print(cardapio[2], end='\\n\\n')\n",
        "\n",
        "for comida in cardapio:\n",
        "    print(f'{comida} - {type(comida)}, pos0 {comida[0]} {type(comida[0])}, pos1 {comida[1]} {type(comida[1])}')\n",
        "\n"
      ],
      "execution_count": 4,
      "outputs": [
        {
          "output_type": "stream",
          "name": "stdout",
          "text": [
            "['Lanche', 10.9]\n",
            "['Batata', 5.5]\n",
            "['Refri', 3.9]\n",
            "\n",
            "['Lanche', 10.9] - <class 'list'>, pos0 Lanche <class 'str'>, pos1 10.9 <class 'float'>\n",
            "['Batata', 5.5] - <class 'list'>, pos0 Batata <class 'str'>, pos1 5.5 <class 'float'>\n",
            "['Refri', 3.9] - <class 'list'>, pos0 Refri <class 'str'>, pos1 3.9 <class 'float'>\n"
          ]
        }
      ]
    },
    {
      "cell_type": "markdown",
      "metadata": {
        "id": "8VHRSx9BRL83"
      },
      "source": [
        "Repare que sempre que estamos acessando os valores dentro da lista: o **primeiro** `[ ]` vai acessar as posições mais externas da lista, o **segundo** `[ ]` vai acessar as posição da lista referente à lista do **primeiro** `[ ]` e assim em diante."
      ]
    },
    {
      "cell_type": "markdown",
      "metadata": {
        "id": "7jTzBPLYRoOI"
      },
      "source": [
        "Agora que já entendemos como acessar seus valores vamos ver como declarar uma lista composta.\n",
        "\n",
        "<h2> Declarando por partes </h2>\n",
        "\n",
        "Neste caso declara-se cada item de dentro da lista principal e depois colocam-se seus valores dentro da lista principal. Para quem está começando é a forma mais simples de entender:\n",
        "\n",
        "```\n",
        "lanche = ['Lanche', 10.9] \n",
        "batata = ['Batata',  5.5]\n",
        "refri  = ['Refri' ,  3.9]\n",
        "cardapio = [lanche, batata, refri]\n",
        "```\n",
        "No exemplo acima foram criadas 3 variáveis para armazenar listas com as informações de cada comida. A seguir essas listas foram colocadas dentro da lista principal: cardapio.\n",
        "\n",
        "<h3> Exemplo 2 </h3>\n",
        "\n",
        "* Declare a lista do exemplo acima.\n",
        "* Imprima o valor da posição: `cardapio[1][0]`\n",
        "* Compare os valores: `lanche == cardapio[0]`"
      ]
    },
    {
      "cell_type": "code",
      "metadata": {
        "colab": {
          "base_uri": "https://localhost:8080/"
        },
        "id": "QCEOfLvYSoKp",
        "outputId": "f516fc14-1a6f-4031-a7fd-81c00263a53a"
      },
      "source": [
        "# Declarando a lista de listas:\n",
        "lanche = ['Lanche', 10.9] \n",
        "batata = ['Batata',  5.5]\n",
        "refri  = ['Refri' ,  3.9]\n",
        "cardapio = [lanche, batata, refri]\n",
        "# Imprimindo os valores:\n",
        "\n",
        "print(cardapio[1][0])\n",
        "\n",
        "print(f'{lanche} = {cardapio[0]}? {lanche == cardapio[0]}')\n"
      ],
      "execution_count": 7,
      "outputs": [
        {
          "output_type": "stream",
          "name": "stdout",
          "text": [
            "Batata\n",
            "['Lanche', 10.9] = ['Lanche', 10.9]? True\n"
          ]
        }
      ]
    },
    {
      "cell_type": "markdown",
      "metadata": {
        "id": "KcUlf4GvTGyC"
      },
      "source": [
        "<h2> Declaração direta </h2>\n",
        "\n",
        "Nesse caso declara-se tudo de uma só vez.\n",
        "\n",
        "```\n",
        "cardapio = [['Lanche', 10.9], ['Batata',  5.5], ['Refri' ,  3.9]]\n",
        "```\n",
        "Já neste exemplo, nós temos o `[]` mais externo que é a lista mais externa, no qual cada posição dela vai acessar uma das 3 listas dentro do cardápio.\n",
        "\n",
        "Os `[]` mais internos são listas de cada uma das comidas do cardápio mostrando os nomes e preços de cada item do cardápio.\n",
        "\n",
        "<h3> Exemplo 3 </h3>\n",
        "\n",
        "* Declare a lista do exemplo acima.\n",
        "* Imprima o valor da posição: `cardapio[2]` e `cardapio[2][1]`"
      ]
    },
    {
      "cell_type": "code",
      "metadata": {
        "colab": {
          "base_uri": "https://localhost:8080/"
        },
        "id": "BfQcMDvIUH8e",
        "outputId": "97f3a731-3025-43df-ea0b-231a0601f1b2"
      },
      "source": [
        "# Declarando a lista de listas:\n",
        "cardapio = [['Lanche', 10.9], ['Batata',  5.5], ['Refri' ,  3.9]]\n",
        "\n",
        "# Imprimindo os valores:\n",
        "print(cardapio[2], cardapio[2][1])"
      ],
      "execution_count": 9,
      "outputs": [
        {
          "output_type": "stream",
          "name": "stdout",
          "text": [
            "['Refri', 3.9] 3.9\n"
          ]
        }
      ]
    },
    {
      "cell_type": "markdown",
      "metadata": {
        "id": "7CeCy-vNUb46"
      },
      "source": [
        "<h2> Declaração com .append() </h2>\n",
        "\n",
        "Como vimos nas aulas anteriores podemos usar o append para inserir um novo item a uma lista.\n",
        "\n",
        "No caso de lista composta podemos usar o `.append()` para inserir uma nova lista dentro da lista mais externa.\n",
        "\n",
        "```\n",
        "cardapio = []\n",
        "comida = []\n",
        "comida.append('Lanche')\n",
        "comida.append(10.9)\n",
        "cardapio.append(comida[:])\n",
        "```\n",
        "Verifique que primeiro temos que declarar nossa lista externa cardapio como uma lista vazia.\n",
        "\n",
        "A seguir criamos uma lista com os itens `comida`\n",
        "\n",
        "Finalmente usamos o `.append()` para colocarmos esses valores dentro da lista externa: `cardapio` \n",
        "\n",
        "<h3> Exemplo 4 </h3>\n",
        "\n",
        "* Declare a lista cardapio inteira usando o `append()`\n",
        "* Imprima o valor da posição: `cardapio[0]` e `cardapio[0][1]`"
      ]
    },
    {
      "cell_type": "code",
      "metadata": {
        "colab": {
          "base_uri": "https://localhost:8080/"
        },
        "id": "TeRFYEYKWR9o",
        "outputId": "980390e4-2f19-4c3c-8dce-8700d3bcb1b4"
      },
      "source": [
        "# Declarando a lista de listas:\n",
        "cardapio = []\n",
        "comida = list()\n",
        "\n",
        "comida.append('Lanche')\n",
        "comida.append(10.9)\n",
        "cardapio.append(comida.copy())\n",
        "comida.clear()\n",
        "\n",
        "comida.append('Batata')\n",
        "comida.append(5.5)\n",
        "cardapio.append(comida[:])\n",
        "comida.clear()\n",
        "\n",
        "comida.append('Refri')\n",
        "comida.append(3.9)\n",
        "cardapio.append(comida[:])\n",
        "comida.clear()\n",
        "\n",
        "# Imprimindo os valores:\n",
        "\n",
        "print(cardapio[0])\n",
        "print(cardapio[0][1])\n"
      ],
      "execution_count": 13,
      "outputs": [
        {
          "output_type": "stream",
          "name": "stdout",
          "text": [
            "['Lanche', 10.9]\n",
            "10.9\n"
          ]
        }
      ]
    },
    {
      "cell_type": "markdown",
      "metadata": {
        "id": "FXb_wmSFXCLR"
      },
      "source": [
        "Observe que tivemos que usar um método novo:\n",
        "\n",
        "```\n",
        "var.clear()\n",
        "```\n",
        "Esse método limpa a memória da variável eliminando todos os valores que existam dentro dela.\n",
        "\n",
        "Esse é um método muito útil para quando criamos algumas variáveis temporárias.\n",
        "\n",
        "<h2> Exercício 1 </h2>\n",
        "\n",
        "Usando o método do `append()` e `loops` crie uma lista composta na qual o usuário irá fornecer os termos\n",
        "\n",
        "* A lista externa deve ter 3 itens\n",
        "* A lista interna deve ter 2 itens cada."
      ]
    },
    {
      "cell_type": "code",
      "metadata": {
        "colab": {
          "base_uri": "https://localhost:8080/"
        },
        "id": "aQf8MlzFG5E6",
        "outputId": "f31b3168-5a17-4c39-e43a-b9b456638209"
      },
      "source": [
        "# Declarando as listas vazias\n",
        "cardapio = []\n",
        "comida = []\n",
        "\n",
        "# Pedindo para o usuário fornecer os valores\n",
        "\n",
        "for food in range(0,3):\n",
        "    comida.append(input('Digite o nome do prato: '))\n",
        "    comida.append(float(input('Digite o valor do prato: ')))\n",
        "    cardapio.append(comida[:])\n",
        "    comida.clear()\n",
        "\n",
        "print(cardapio)"
      ],
      "execution_count": 15,
      "outputs": [
        {
          "output_type": "stream",
          "name": "stdout",
          "text": [
            "Digite o nome do prato:Batata\n",
            "Digite o valor do prato:8\n",
            "Digite o nome do prato:ytu\n",
            "Digite o valor do prato:2\n",
            "Digite o nome do prato:rtyr\n",
            "Digite o valor do prato:10.89087\n",
            "[['Batata', 8.0], ['ytu', 2.0], ['rtyr', 10.89087]]\n"
          ]
        }
      ]
    },
    {
      "cell_type": "markdown",
      "metadata": {
        "id": "UizibgHCX7wi"
      },
      "source": [
        "## Acessando os valores de uma lista composta\n",
        "\n",
        "Para acessar os valores de uma lista composta é só usar os `[ ]`.\n",
        "\n",
        "Sempre é acessada a lista mais externa para a mais interna"
      ]
    },
    {
      "cell_type": "markdown",
      "metadata": {
        "id": "_ANFXPRQYbDr"
      },
      "source": [
        "<h2> Acesso direto </h2>\n",
        "\n",
        "Para acessar as listas é só colocar a posição da lista desejada no primeiro `[ ]`\n",
        "\n",
        "```\n",
        "cardapio[0]    == ['Lanche', 10.9]\n",
        "cardapio[1]    == ['Batata',  5.5]\n",
        "cardapio[2]    == ['Refri' ,  3.9]\n",
        "```\n",
        "Para acessar os valores dentro das listas é só colocar a posição do valor da lista desejada no segundo `[ ]`\n",
        "\n",
        "```\n",
        "cardapio[0][1] == 10.9\n",
        "cardapio[1][0] == 'Batata'\n",
        "cardapio[2][0] == 'Refri' \n",
        "```\n",
        "\n",
        "<h3> Exemplo 5 </h3>\n",
        "\n",
        "Dado a lista anterior: `cardapio` acesse os valores listados acima."
      ]
    },
    {
      "cell_type": "code",
      "metadata": {
        "colab": {
          "base_uri": "https://localhost:8080/"
        },
        "id": "h50tsbqTZCNq",
        "outputId": "e33a7309-a058-4ccc-e6b1-4edda331f790"
      },
      "source": [
        "# Acessando as listas:\n",
        "print(cardapio[0])\n",
        "print(cardapio[1])\n",
        "print(cardapio[2])\n",
        "\n",
        "# Acessando os valores dentro das listas: \n",
        "print(cardapio[0][1])\n",
        "print(cardapio[1][0])\n",
        "print(cardapio[2][0])"
      ],
      "execution_count": 16,
      "outputs": [
        {
          "output_type": "stream",
          "name": "stdout",
          "text": [
            "['Batata', 8.0]\n",
            "['ytu', 2.0]\n",
            "['rtyr', 10.89087]\n",
            "8.0\n",
            "ytu\n",
            "rtyr\n"
          ]
        }
      ]
    },
    {
      "cell_type": "markdown",
      "metadata": {
        "id": "1sllZVncZsAv"
      },
      "source": [
        "<h2> Acessando valores dentro de um for </h2>\n",
        "\n",
        "Assim como podemos declarar os valores dentro de loopings também podemos acessá-los.\n",
        "```\n",
        "for c in cardapio:\n",
        "  print(f'c = {c}, c[0] = {c[0]}, c[1] = {c[1]}')\n",
        "```\n",
        "Basicamente o funcionamento do for é: Para cada `lista c` dentro de `cardapio`, plote a posição `[pos]` dessa lista.\n",
        "\n",
        "<h3> Exemplo 6 </h3>\n",
        "\n",
        "Dado a lista anterior: `cardapio`, acesse:\n",
        "* Todos os nomes no cardápio\n",
        "* Todos os preços no cardápio"
      ]
    },
    {
      "cell_type": "code",
      "metadata": {
        "colab": {
          "base_uri": "https://localhost:8080/"
        },
        "id": "zVk6X1qjJR0O",
        "outputId": "0ad3640d-3480-45b0-8adf-9277b55dcc4a"
      },
      "source": [
        "# Imprimindo todas as listas c\n",
        "for c in cardapio:\n",
        "  print(f'c = {c}')\n",
        "print('-'*25)\n",
        "\n",
        "# Imprimindo todos os nomes\n",
        "for c in cardapio:\n",
        "  print(f'c[0] = nome = {c[0]}')\n",
        "print('-'*25)\n",
        "\n",
        "# Imprimindo todos os preços\n",
        "for c in cardapio:\n",
        "  print(f'c[1] = preço = {c[1]}')\n",
        "print('-'*25)"
      ],
      "execution_count": 18,
      "outputs": [
        {
          "output_type": "stream",
          "name": "stdout",
          "text": [
            "c = ['Batata', 8.0]\n",
            "c = ['ytu', 2.0]\n",
            "c = ['rtyr', 10.89087]\n",
            "-------------------------\n",
            "c[0] = nome = Batata\n",
            "c[0] = nome = ytu\n",
            "c[0] = nome = rtyr\n",
            "-------------------------\n",
            "c[1] = preço = 8.0\n",
            "c[1] = preço = 2.0\n",
            "c[1] = preço = 10.89087\n",
            "-------------------------\n"
          ]
        }
      ]
    },
    {
      "cell_type": "markdown",
      "metadata": {
        "id": "TqGayzuGnRg7"
      },
      "source": [
        "# Exercícios\n"
      ]
    },
    {
      "cell_type": "markdown",
      "metadata": {
        "id": "TePbhvmQnWKa"
      },
      "source": [
        "<h2> Exercício 1 </h2>\n",
        "\n",
        "Dada a lista: \n",
        "```\n",
        "cardapio = [['Lanche', 10.9], ['Batata',  5.5], ['Refri' ,  3.9]]\n",
        "```\n",
        "Faça um programa que irá mostrar o cardápio do restaurante de forma organizada."
      ]
    },
    {
      "cell_type": "code",
      "metadata": {
        "id": "wur0enxZntOs",
        "colab": {
          "base_uri": "https://localhost:8080/"
        },
        "outputId": "179668fd-023c-4e1c-d458-0dea0190f349"
      },
      "source": [
        "cardapio = [['Lanche', 10.9], ['Batata',  5.5], ['Refri' ,  3.9]]\n",
        "\n",
        "for valor in cardapio:\n",
        "    print(f'{valor[0]} = R${valor[1]:.2f}')"
      ],
      "execution_count": 22,
      "outputs": [
        {
          "output_type": "stream",
          "name": "stdout",
          "text": [
            "Lanche = R$10.90\n",
            "Batata = R$5.50\n",
            "Refri = R$3.90\n"
          ]
        }
      ]
    },
    {
      "cell_type": "markdown",
      "metadata": {
        "id": "fTU72RWcnttp"
      },
      "source": [
        "<h2> Exercício 2 </h2>\n",
        "\n",
        "Faça um programa que irá mostrar item a item do cardápio para o usuário e irá perguntar quantos daquele item a pessoa quer comprar.\n",
        "\n",
        "No final mostre a quantidade de cada item comprado e também o valor total da compra."
      ]
    },
    {
      "cell_type": "code",
      "metadata": {
        "id": "mj12E2M5oLrU",
        "colab": {
          "base_uri": "https://localhost:8080/"
        },
        "outputId": "38e945d8-0ad1-4049-cbdd-73c80c505649"
      },
      "source": [
        "cardapio = [['Lanche', 10.9], ['Batata',  5.5], ['Refri' ,  3.9]]\n",
        "\n",
        "print('-' *30)\n",
        "print(' Cardápio '.center(30, '-'))\n",
        "print('-' *30)\n",
        "print('- Faça seu pedido '.ljust(30, '-'))\n",
        "print('-' *30)\n",
        "count = 0\n",
        "for i in cardapio:\n",
        "    count += 1\n",
        "    print('[{:2}] {:15} : R${:5.2f}'.format(count, i[0].strip().ljust(15, '.'), i[1]))\n",
        "print('-' *30, end='\\n\\n')\n",
        "\n",
        "carrinho = list()\n",
        "\n",
        "while True:\n",
        "\n",
        "    opcao = int(input('Digite sua opção: '))\n",
        "    qtd = int(input('Digite a quantidade: '))\n",
        "\n",
        "    if opcao == 1:\n",
        "        for i, item in enumerate(carrinho):\n",
        "            if item[0] == cardapio[0][0]:\n",
        "                print('achou')\n",
        "                carrinho[i][2] += qtd\n",
        "                break\n",
        "        else:\n",
        "            item = cardapio[0][:]\n",
        "            item.append(qtd)\n",
        "            carrinho.append(item)\n",
        "    elif opcao == 2:\n",
        "        for i, item in enumerate(carrinho):\n",
        "            if item[0] == cardapio[1][0]:\n",
        "                print('achou')\n",
        "                carrinho[i][2] += qtd\n",
        "                break\n",
        "        else:\n",
        "            item = cardapio[1][:]\n",
        "            item.append(qtd)\n",
        "            carrinho.append(item)\n",
        "    elif opcao == 3:\n",
        "        for i, item in enumerate(carrinho):\n",
        "            if item[0] == cardapio[2][0]:\n",
        "                print('achou')\n",
        "                carrinho[i][2] += qtd\n",
        "                break\n",
        "        else:\n",
        "            item = cardapio[2][:]\n",
        "            item.append(qtd)\n",
        "            carrinho.append(item)\n",
        "    else:\n",
        "        print('Opção inválida')\n",
        "        continue\n",
        "    \n",
        "    qtd = 0\n",
        "    saida = input('Deseja pedir algo mais? (s/n) ')\n",
        "\n",
        "    if saida == 's':\n",
        "        continue\n",
        "    elif saida == 'n':\n",
        "        sum = 0\n",
        "        \n",
        "        print('-' *30)\n",
        "        print(' Nota '.center(30, '-'))\n",
        "        print('-' *30)\n",
        "        print('-' *30)\n",
        "        for i in carrinho:\n",
        "            sum += i[1]*i[2]\n",
        "            print('{:16} x{:2} : R${:5.2f}'.format(i[0].ljust(16, '.'), i[2], i[1]*i[2]))\n",
        "        print('-' *30, end='\\n\\n')\n",
        "\n",
        "        print(f'Total do pedido: R${sum:.2f}')\n",
        "        break"
      ],
      "execution_count": 18,
      "outputs": [
        {
          "output_type": "stream",
          "name": "stdout",
          "text": [
            "------------------------------\n",
            "---------- Cardápio ----------\n",
            "------------------------------\n",
            "- Faça seu pedido ------------\n",
            "------------------------------\n",
            "[ 1] Lanche......... : R$10.90\n",
            "[ 2] Batata......... : R$ 5.50\n",
            "[ 3] Refri.......... : R$ 3.90\n",
            "------------------------------\n",
            "\n",
            "Digite sua opção: 1\n",
            "Digite a quantidade: 5\n",
            "Deseja pedir algo mais? (s/n) 2\n",
            "Digite sua opção: 2\n",
            "Digite a quantidade: 5\n",
            "Deseja pedir algo mais? (s/n) 3\n",
            "Digite sua opção: 7\n",
            "Digite a quantidade: 3\n",
            "Opção inválida\n",
            "Digite sua opção: 3\n",
            "Digite a quantidade: 7\n",
            "Deseja pedir algo mais? (s/n) n\n",
            "------------------------------\n",
            "------------ Nota ------------\n",
            "------------------------------\n",
            "------------------------------\n",
            "Lanche.......... x 5 : R$54.50\n",
            "Batata.......... x 5 : R$27.50\n",
            "Refri........... x 7 : R$27.30\n",
            "------------------------------\n",
            "\n",
            "Total do pedido: R$109.30\n"
          ]
        }
      ]
    },
    {
      "cell_type": "markdown",
      "metadata": {
        "id": "GdhY9fG3oMAb"
      },
      "source": [
        "<h2> Exercício 3 </h2>\n",
        "Faça um programa que o usuário cadastre algumas informações sobre clientes:\n",
        "\n",
        "* nome\n",
        "* email\n",
        "* telefone\n",
        "* idade\n",
        "\n",
        "A seguir faça um sistema de pesquisa no qual o usuário digita o email e o sistema mostra todas as informações deste usuário.\n"
      ]
    },
    {
      "cell_type": "code",
      "source": [
        "clientes = list()"
      ],
      "metadata": {
        "id": "0DgEDM5V3m93"
      },
      "execution_count": 5,
      "outputs": []
    },
    {
      "cell_type": "code",
      "metadata": {
        "id": "7etBAWLGopQS",
        "colab": {
          "base_uri": "https://localhost:8080/"
        },
        "outputId": "006037cc-d2ae-4f61-f04c-a444fd1619fd"
      },
      "source": [
        "\n",
        "while True:\n",
        "    try:\n",
        "        cliente_novo = list()\n",
        "        cliente_novo.append(input('Digite o nome do cliente: '))\n",
        "        cliente_novo.append(input('Digite o email do cliente: '))\n",
        "        cliente_novo.append(int(input('Digite o telefone do cliente: ')))\n",
        "        cliente_novo.append(int(input('Digite a idade do cliente: ')))\n",
        "        clientes.append(cliente_novo)\n",
        "        saida = input('Cliente cadastrado com sucesso! \\nDeseja cadastrar outro cliente? (s/n): ')\n",
        "        if saida == 's':\n",
        "            continue\n",
        "        elif saida == 'n':\n",
        "            break\n",
        "    except:\n",
        "        print('Digite um dado válido')\n",
        "        cliente_novo.clear()\n",
        "print(clientes)\n"
      ],
      "execution_count": 6,
      "outputs": [
        {
          "output_type": "stream",
          "name": "stdout",
          "text": [
            "Digite o nome do cliente: Sam\n",
            "Digite o email do cliente: sam@sam.com.br\n",
            "Digite o telefone do cliente: 4234234234234\n",
            "Digite a idade do cliente: 34\n",
            "Cliente cadastrado com sucesso! \n",
            "Deseja cadastrar outro cliente? (s/n): s\n",
            "Digite o nome do cliente: teste\n",
            "Digite o email do cliente: teste@teste.com\n",
            "Digite o telefone do cliente: 243423423\n",
            "Digite a idade do cliente: 23\n",
            "Cliente cadastrado com sucesso! \n",
            "Deseja cadastrar outro cliente? (s/n): n\n",
            "[['Sam', 'sam@sam.com.br', 4234234234234, 34], ['teste', 'teste@teste.com', 243423423, 23]]\n"
          ]
        }
      ]
    },
    {
      "cell_type": "code",
      "source": [
        "email_cliente = input('Digite o email do cliente para realizar a busca: ')\n",
        "\n",
        "for i in clientes:\n",
        "    if i[1] == email_cliente:\n",
        "        print(f'Cliente encontrado. \\n\\nNome: {i[0]} \\nEmail: {i[1]} \\nTelefone: {i[2]} \\nIdade: {i[3]}')\n",
        "        break\n",
        "else:\n",
        "    print('Cliente não encontrado.')"
      ],
      "metadata": {
        "colab": {
          "base_uri": "https://localhost:8080/"
        },
        "id": "dWzCYFuQ2n9W",
        "outputId": "01b8faba-0df4-4e20-ad1d-123498baed99"
      },
      "execution_count": 11,
      "outputs": [
        {
          "output_type": "stream",
          "name": "stdout",
          "text": [
            "Digite o email do cliente para realizar a busca: sam@sam.com.br\n",
            "Cliente encontrado. \n",
            "\n",
            "Nome: Sam \n",
            "Email: sam@sam.com.br \n",
            "Telefone: 4234234234234 \n",
            "Idade: 34\n"
          ]
        }
      ]
    },
    {
      "cell_type": "code",
      "source": [],
      "metadata": {
        "id": "YD_FHBcr24QC"
      },
      "execution_count": null,
      "outputs": []
    }
  ]
}