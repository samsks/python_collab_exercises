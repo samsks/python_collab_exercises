{
  "nbformat": 4,
  "nbformat_minor": 0,
  "metadata": {
    "colab": {
      "provenance": [],
      "toc_visible": true
    },
    "kernelspec": {
      "name": "python3",
      "display_name": "Python 3"
    },
    "language_info": {
      "name": "python"
    }
  },
  "cells": [
    {
      "cell_type": "markdown",
      "metadata": {
        "id": "dsu3uJksx-M7"
      },
      "source": [
        "![dnc.png](data:image/png;base64,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)"
      ]
    },
    {
      "cell_type": "markdown",
      "metadata": {
        "id": "Mn_vGqswyBr0"
      },
      "source": [
        "<br>Consultor: Everton Menezes </br>"
      ]
    },
    {
      "cell_type": "markdown",
      "metadata": {
        "id": "vmOiyAlWk7HR"
      },
      "source": [
        "# Listas\n",
        "\n",
        "As listas são variáveis compostas mutáveis."
      ]
    },
    {
      "cell_type": "markdown",
      "metadata": {
        "id": "gUt0wyiL5ZV2"
      },
      "source": [
        "As listas são variáveis compostas que são declaradas entre colchetes `[]`\n",
        "\n",
        "```\n",
        "lista = ['var1','var2','var3']\n",
        "```\n",
        "\n",
        "Assim como as tuplas elas também aceitam qualquer tipo de dado.\n",
        "\n",
        "<h2> Similaridades entre Listas e Tuplas: </h2>\n",
        "\n",
        "Todas as funções vistas em tuplas também funcionam com Listas:\n",
        "\n",
        "> Fatiamento: `[0] [0:2] [:3] [3:] [-1]` <br>\n",
        "> Métodos: `.index()`      `.count()` <br>\n",
        "> Funções: `len()` e `sorted()` <br>\n",
        "> Concatenar: `lista3 = lista1 + lista2` <br>\n",
        "> Lista dentro de for: `for i in lista` e `for i, v in enumerate(lista):`"
      ]
    },
    {
      "cell_type": "markdown",
      "metadata": {
        "id": "cwuCtaPdCi-Z"
      },
      "source": [
        "## Funções e Métodos para Listas"
      ]
    },
    {
      "cell_type": "markdown",
      "metadata": {
        "id": "gBPUzzksCwsI"
      },
      "source": [
        "* Modificando um termo:\n",
        "\n",
        "```\n",
        "lista[posicao] = novoValor\n",
        "lista[intervalo] = novaLista\n",
        "```\n",
        "\n",
        "<h3> Exemplo 1 </h3>\n",
        "\n",
        "Dada a lista abaixo:\n",
        "\n",
        "`l1 = [2, 6, 4, 5, 7]`\n",
        "\n",
        "* Troque o 3º termo por 3\n",
        "* Troque os 2 primeiros termos por 0 e 1, respectivamente."
      ]
    },
    {
      "cell_type": "code",
      "source": [],
      "metadata": {
        "id": "-bB_Z71j20fb"
      },
      "execution_count": null,
      "outputs": []
    },
    {
      "cell_type": "code",
      "metadata": {
        "colab": {
          "base_uri": "https://localhost:8080/"
        },
        "id": "hXZDWX8d7ceC",
        "outputId": "cee1d5fe-f991-4455-de9c-13e5c10b70ae"
      },
      "source": [
        "# Declarando a lista\n",
        "l1 = [2, 6, 4, 5, 7]\n",
        "print(l1)\n",
        "\n",
        "# Substituindo os valores\n",
        "l1[2] = 3\n",
        "print(l1)\n",
        "l1[0:3] = [0,1,45]\n",
        "print(l1)"
      ],
      "execution_count": 1,
      "outputs": [
        {
          "output_type": "stream",
          "name": "stdout",
          "text": [
            "[2, 6, 4, 5, 7]\n",
            "[2, 6, 3, 5, 7]\n",
            "[0, 1, 45, 5, 7]\n"
          ]
        }
      ]
    },
    {
      "cell_type": "markdown",
      "metadata": {
        "id": "ahKI6DFu7tR8"
      },
      "source": [
        "* Adicionando termos:\n",
        "\n",
        "```\n",
        "lista.append(valor)\n",
        "lista.insert(posicao, valor)\n",
        "```\n",
        "\n",
        "<h3> Exemplo 2 </h3>\n",
        "\n",
        "Dada a lista abaixo:\n",
        "\n",
        "`l1 = [0, 1, 3, 5, 7]`\n",
        "\n",
        "* Insira 7 para o último valor\n",
        "* Insira 4 na quarta posição"
      ]
    },
    {
      "cell_type": "code",
      "metadata": {
        "colab": {
          "base_uri": "https://localhost:8080/"
        },
        "id": "Hr7FgI3E7s2g",
        "outputId": "b7435db3-f994-4bd2-a948-3b33b6762de4"
      },
      "source": [
        "# Declarando a lista\n",
        "l1 = [0, 1, 3, 5, 7]\n",
        "print(l1)\n",
        "\n",
        "# Inserindo os valores\n",
        "l1.append(7)\n",
        "print(l1)\n",
        "l1.insert(3, 4)\n",
        "print(l1)"
      ],
      "execution_count": 5,
      "outputs": [
        {
          "output_type": "stream",
          "name": "stdout",
          "text": [
            "[0, 1, 3, 5, 7]\n",
            "[0, 1, 3, 5, 7, 7]\n",
            "[0, 1, 3, 4, 5, 7, 7]\n"
          ]
        }
      ]
    },
    {
      "cell_type": "markdown",
      "metadata": {
        "id": "YK3mGfkh8hKP"
      },
      "source": [
        "Repare que quando usamos o `.insert()` o método insere o valor na posição desejada e desloca todos os outros valores da lista para direita.\n",
        "\n",
        "* Deletando termos:\n",
        "\n",
        "```\n",
        "del lista[posicao]\n",
        "var = lista.pop(pos)\n",
        "lista.remove(valor)\n",
        "```\n",
        "\n",
        "<h3> Exemplo 3 </h3>\n",
        "\n",
        "Dada a lista abaixo:\n",
        "\n",
        "`l1 = [0, 1, 3, 4, 5, 7, 7]`\n",
        "\n",
        "* Delete o 4º item usando `del`\n",
        "* Delete o 3º item usando `.pop` e salve na variável `deletado`\n",
        "* Delete o primeiro valor 7 que aparece na lista\n"
      ]
    },
    {
      "cell_type": "code",
      "metadata": {
        "colab": {
          "base_uri": "https://localhost:8080/"
        },
        "id": "IsvjRK1x9UKL",
        "outputId": "4cfe6bb9-e905-4437-dc47-b50573a10ce0"
      },
      "source": [
        "# Declarando a lista\n",
        "l1 = [0, 1, 3, 4, 5, 7, 7]\n",
        "print(l1)\n",
        "\n",
        "# Deletando os valores\n",
        "del l1[3]\n",
        "print(l1)\n",
        "\n",
        "deletado = l1.pop(2)\n",
        "print(l1, ' - ', deletado)\n",
        "\n",
        "l1.remove(7) # Erro ao remover valores que não estão na lista\n",
        "print(l1)\n"
      ],
      "execution_count": 10,
      "outputs": [
        {
          "output_type": "stream",
          "name": "stdout",
          "text": [
            "[0, 1, 3, 4, 5, 7, 7]\n",
            "[0, 1, 3, 5, 7, 7]\n",
            "[0, 1, 5, 7, 7]  -  3\n",
            "[0, 1, 5, 7]\n"
          ]
        }
      ]
    },
    {
      "cell_type": "markdown",
      "metadata": {
        "id": "62y6abfz9vzf"
      },
      "source": [
        "### if com lista\n",
        "\n",
        "Também podemos usar o if de uma forma simplificada na lista para verificarmos se algum valor existe dentro da lista:\n",
        "\n",
        "```\n",
        "if valor in lista:\n",
        "  lista.remove(valor)\n",
        "```\n",
        "Como o exemplo acima mostra ela é muito comum de ser usada para verificar se algum valor está dentro da lista antes de deletá-lo.\n",
        "\n",
        "<h2> Exercício 1 </h2>\n",
        "\n",
        "Dada a lista abaixo:\n",
        "```\n",
        "l2 = [3, 2, 5, 0, 0, 8, 3, 8, 8, 4, 0, 9, 7, 8, 9, 3, 6, 0, 1]\n",
        "```\n",
        "1. Conte a quantidade de termos que a lista possui e imprima\n",
        "2. Delete todos os **0** da lista e imprima-a\n",
        "3. Conte a quantidade de termos da nova lista"
      ]
    },
    {
      "cell_type": "code",
      "metadata": {
        "colab": {
          "base_uri": "https://localhost:8080/"
        },
        "id": "An1LqmQf-SuL",
        "outputId": "4d4a73ff-0b3c-496b-9634-31149d68f2be"
      },
      "source": [
        "# Declarando a lista\n",
        "l2 = [3, 2, 5, 0, 0, 8, 3, 8, 8, 4, 0, 9, 7, 8, 9, 3, 6, 0, 1]\n",
        "print(l2)\n",
        "\n",
        "# Contando a lista\n",
        "list_qtd = len(l2)\n",
        "print(list_qtd)\n",
        "\n",
        "# Deletando os valores\n",
        "for i in l2:\n",
        "    if 0 in l2:\n",
        "        l2.remove(0)\n",
        "\n",
        "print(l2)\n",
        "\n",
        "# Contando a lista final\n",
        "print(len(l2))"
      ],
      "execution_count": 18,
      "outputs": [
        {
          "output_type": "stream",
          "name": "stdout",
          "text": [
            "[3, 2, 5, 0, 0, 8, 3, 8, 8, 4, 0, 9, 7, 8, 9, 3, 6, 0, 1]\n",
            "19\n",
            "[3, 2, 5, 8, 3, 8, 8, 4, 9, 7, 8, 9, 3, 6, 1]\n",
            "15\n"
          ]
        }
      ]
    },
    {
      "cell_type": "markdown",
      "metadata": {
        "id": "4A9XTtoV_D1C"
      },
      "source": []
    },
    {
      "cell_type": "markdown",
      "metadata": {
        "id": "3vUjfYld_mJc"
      },
      "source": [
        "* Ordenando a Lista\n",
        "\n",
        "Existe 2 maneiras de ordenar. Uma delas é uma função e a outra é um método.\n",
        "\n",
        "```\n",
        "sorted(lista)\n",
        "lista.sort()\n",
        "lista.sort(reverse = True)\n",
        "```\n",
        "\n",
        "<h3> Exemplo 4 </h3>\n",
        "\n",
        "Dada a lista abaixo:\n",
        "\n",
        "`l1 = [0, 3, 1, 7, 5, 7, 4]`\n",
        "\n",
        "* Ordene a lista com o `sorted`e salve na variável sort1\n",
        "* Ordene a lista com o `.sort()` e salve na variável sort2\n",
        "* Compare os resultados\n",
        "* Faça a ordenação inversa da lista\n"
      ]
    },
    {
      "cell_type": "code",
      "metadata": {
        "colab": {
          "base_uri": "https://localhost:8080/"
        },
        "id": "gfl4Ys7CAJsq",
        "outputId": "5e466d86-7014-46e8-c747-811298f8b989"
      },
      "source": [
        "# Declarando a lista\n",
        "l1 = [0, 3, 1, 7, 5, 7, 4]\n",
        "print(l1)\n",
        "\n",
        "# Fazendo o sort1\n",
        "sort1 = sorted(l1)\n",
        "print(sort1)\n",
        "print(l1)\n",
        "\n",
        "# Fazendo o sort2\n",
        "l1.sort()\n",
        "print(l1)\n",
        "\n",
        "# Ordenação inversa\n",
        "l1.sort(reverse = True)\n",
        "print(l1)"
      ],
      "execution_count": 26,
      "outputs": [
        {
          "output_type": "stream",
          "name": "stdout",
          "text": [
            "[0, 3, 1, 7, 5, 7, 4]\n",
            "[0, 1, 3, 4, 5, 7, 7]\n",
            "[0, 3, 1, 7, 5, 7, 4]\n",
            "[0, 1, 3, 4, 5, 7, 7]\n",
            "[7, 7, 5, 4, 3, 1, 0]\n"
          ]
        }
      ]
    },
    {
      "cell_type": "markdown",
      "metadata": {
        "id": "8X3mzIaUBC9o"
      },
      "source": [
        "<h2> Diferença entre Função e Método </h2>\n",
        "\n",
        "Como podemos ver no exemplo acima:\n",
        "\n",
        "* Funções são executadas em variáveis e possuem como output uma nova variável. Com isso as funções **NÃO** modificam a variável original. Toda função tem a cara: `saida = funcao(variavel)`\n",
        "* Já os métodos modificam as variáveis e salvam o resultado na própria variável. Todo método tem a cara: `variavel.metodo(configuracao)`\n",
        "\n",
        "Por esse comportamente básico os métodos não funcionam em tuplas."
      ]
    },
    {
      "cell_type": "markdown",
      "metadata": {
        "id": "1qo6OmevC_R0"
      },
      "source": [
        "## Declarando Listas\n",
        "\n",
        "É muito comum declararmos listas em branco para que o usuário possa inserir os valores e/ou possamos puxar os valores de algum banco de dados."
      ]
    },
    {
      "cell_type": "markdown",
      "metadata": {
        "id": "V03Wjr_eDLQS"
      },
      "source": [
        "<h2> Declarando Listas em branco </h2>\n",
        "\n",
        "```\n",
        "lista = []\n",
        "lista = list()\n",
        "```\n",
        "\n",
        "Após a declaração é possível ir adicionando os valores com o `.append()` que já vimos anteriormente.\n",
        "\n",
        "<h3> Exemplo 5 </h3>\n",
        "Crie uma lista vazia e peça para o usuário inserir 5 números dentro dela."
      ]
    },
    {
      "cell_type": "code",
      "metadata": {
        "colab": {
          "base_uri": "https://localhost:8080/"
        },
        "id": "i-zi__-CDlqB",
        "outputId": "a8d8cb5f-0277-43a1-b6db-2af08e63754d"
      },
      "source": [
        "# Declarando a lista:\n",
        "lista1 = []\n",
        "\n",
        "for i in range(0,5):\n",
        "    lista1.append(int(input(f'Digite o {i+1}º número: ')))\n",
        "\n",
        "print(lista1)"
      ],
      "execution_count": 28,
      "outputs": [
        {
          "output_type": "stream",
          "name": "stdout",
          "text": [
            "Digite o 1º número: 1\n",
            "Digite o 2º número: 3\n",
            "Digite o 3º número: 5\n",
            "Digite o 4º número: 7\n",
            "Digite o 5º número: 23\n",
            "[1, 3, 5, 7, 23]\n"
          ]
        }
      ]
    },
    {
      "cell_type": "markdown",
      "metadata": {
        "id": "fixT4bVfEEFT"
      },
      "source": [
        "<h2> Declarando Listas com Range </h2>\n",
        "\n",
        "```\n",
        "lista = list(range(inicio,fim,passo))\n",
        "```\n",
        "\n",
        "Para cálculos e análises matemáticas é muito comum precisarmos criar uma lista de números com um passo conhecido para análises e até gráficos. Gerar esses números com o comando acima se torna bem simples.\n",
        "\n",
        "<h3> Exemplo 6 </h3>\n",
        "Crie uma lista de 0 a 10 com passo de 0.1"
      ]
    },
    {
      "cell_type": "code",
      "metadata": {
        "colab": {
          "base_uri": "https://localhost:8080/"
        },
        "id": "jGHANRyWEDvy",
        "outputId": "c0ec4dd3-3ecd-4b54-fb04-34aeceef9417"
      },
      "source": [
        "# Criando lista\n",
        "lista2 = list(range(0, 100+1, 1))\n",
        "print(lista2)\n",
        "\n",
        "for i in lista2:\n",
        "    lista2[i] /= 10\n",
        "\n",
        "print(lista2)"
      ],
      "execution_count": 34,
      "outputs": [
        {
          "output_type": "stream",
          "name": "stdout",
          "text": [
            "[0, 1, 2, 3, 4, 5, 6, 7, 8, 9, 10, 11, 12, 13, 14, 15, 16, 17, 18, 19, 20, 21, 22, 23, 24, 25, 26, 27, 28, 29, 30, 31, 32, 33, 34, 35, 36, 37, 38, 39, 40, 41, 42, 43, 44, 45, 46, 47, 48, 49, 50, 51, 52, 53, 54, 55, 56, 57, 58, 59, 60, 61, 62, 63, 64, 65, 66, 67, 68, 69, 70, 71, 72, 73, 74, 75, 76, 77, 78, 79, 80, 81, 82, 83, 84, 85, 86, 87, 88, 89, 90, 91, 92, 93, 94, 95, 96, 97, 98, 99, 100]\n",
            "[0.0, 0.1, 0.2, 0.3, 0.4, 0.5, 0.6, 0.7, 0.8, 0.9, 1.0, 1.1, 1.2, 1.3, 1.4, 1.5, 1.6, 1.7, 1.8, 1.9, 2.0, 2.1, 2.2, 2.3, 2.4, 2.5, 2.6, 2.7, 2.8, 2.9, 3.0, 3.1, 3.2, 3.3, 3.4, 3.5, 3.6, 3.7, 3.8, 3.9, 4.0, 4.1, 4.2, 4.3, 4.4, 4.5, 4.6, 4.7, 4.8, 4.9, 5.0, 5.1, 5.2, 5.3, 5.4, 5.5, 5.6, 5.7, 5.8, 5.9, 6.0, 6.1, 6.2, 6.3, 6.4, 6.5, 6.6, 6.7, 6.8, 6.9, 7.0, 7.1, 7.2, 7.3, 7.4, 7.5, 7.6, 7.7, 7.8, 7.9, 8.0, 8.1, 8.2, 8.3, 8.4, 8.5, 8.6, 8.7, 8.8, 8.9, 9.0, 9.1, 9.2, 9.3, 9.4, 9.5, 9.6, 9.7, 9.8, 9.9, 10.0]\n"
          ]
        }
      ]
    },
    {
      "cell_type": "markdown",
      "metadata": {
        "id": "iIm9KhkUFb-X"
      },
      "source": [
        "Observe que a função `range( )` somente aceita números inteiros."
      ]
    },
    {
      "cell_type": "markdown",
      "metadata": {
        "id": "VlwXoOWGFoM2"
      },
      "source": [
        "### Copiando e Clonando Listas\n",
        "\n",
        "Quando declaramos uma nova variável e igualamos a uma lista ela na verdade vira um “clone” da lista original. Qualquer modificação em uma das duas irá impactar as duas."
      ]
    },
    {
      "cell_type": "markdown",
      "metadata": {
        "id": "4uPK4v1IFvD2"
      },
      "source": [
        "<h3> Exemplo 7 </h3>\n",
        "\n",
        "Crie uma lista:\n",
        "```\n",
        "l1 = [0, 2, 6, 4, 8, 1, 3]\n",
        "```\n",
        "Em seguida faça:\n",
        "```\n",
        "l2 = l1\n",
        "```\n",
        "Delete o último termo da lista `l2` e imprima as duas listas."
      ]
    },
    {
      "cell_type": "code",
      "metadata": {
        "colab": {
          "base_uri": "https://localhost:8080/"
        },
        "id": "fSc1HAhfGI0W",
        "outputId": "e165269e-b664-4395-e16a-6749b99ff050"
      },
      "source": [
        "# Declarando lista:\n",
        "l1 = [0, 2, 6, 4, 8, 1, 3]\n",
        "l2 = l1\n",
        "print(f'l1 = {l1}')\n",
        "\n",
        "# Deletando último valor e plotando resultados\n",
        "l2.pop()\n",
        "\n",
        "print(f'l1 = {l1}')\n",
        "print(f'l2 = {l2}')"
      ],
      "execution_count": 38,
      "outputs": [
        {
          "output_type": "stream",
          "name": "stdout",
          "text": [
            "l1 = [0, 2, 6, 4, 8, 1, 3]\n",
            "l1 = [0, 2, 6, 4, 8, 1]\n",
            "l2 = [0, 2, 6, 4, 8, 1]\n"
          ]
        }
      ]
    },
    {
      "cell_type": "markdown",
      "metadata": {
        "id": "haCJFErVGcwj"
      },
      "source": [
        "Observe que fazer:\n",
        "```\n",
        "l2 = l1\n",
        "```\n",
        "A gente acaba clonando as listas. Elas estão ocupando o mesmo espaço de memória do computador, portanto, qualquer modificação feita em uma também será feita na outra então muito cuidado na hora de clonar as listas.\n",
        "\n",
        "Se quisermos criar uma cópia da lista para que essa segunda possa ser modificada à vontade devemos utilizar a seguinte sintaxe:\n",
        "\n",
        "```\n",
        "l2 = l1[:]\n",
        "```\n",
        "\n",
        "<h3> Exemplo 8 </h3>\n",
        "\n",
        "Execute o mesmo exemplo anterior só que agora copiando a lista ao invés de clonar."
      ]
    },
    {
      "cell_type": "code",
      "metadata": {
        "colab": {
          "base_uri": "https://localhost:8080/"
        },
        "id": "HoSPv3kAHFod",
        "outputId": "48ff2d73-06cd-4a50-8a91-fe6e59542b25"
      },
      "source": [
        "# Declarando lista:\n",
        "l1 = [0, 2, 6, 4, 8, 1, 3]\n",
        "l2 = l1[:] # l2 = l1.copy()\n",
        "print(f'l1 = {l1}')\n",
        "\n",
        "# Deletando último valor e plotando resultados\n",
        "l2.pop()\n",
        "\n",
        "print(f'l1 = {l1}')\n",
        "print(f'l2 = {l2}')"
      ],
      "execution_count": 39,
      "outputs": [
        {
          "output_type": "stream",
          "name": "stdout",
          "text": [
            "l1 = [0, 2, 6, 4, 8, 1, 3]\n",
            "l1 = [0, 2, 6, 4, 8, 1, 3]\n",
            "l2 = [0, 2, 6, 4, 8, 1]\n"
          ]
        }
      ]
    },
    {
      "cell_type": "markdown",
      "metadata": {
        "id": "_MPnD8yuHPeY"
      },
      "source": [
        "## Listas dentro de for\n",
        "\n",
        "A utilização das listas dentro de loopings é bem similar às tuplas. A diferença é que agora podemos modificar as listas e utilizar os loopings para adicionar novos valores à lista."
      ]
    },
    {
      "cell_type": "markdown",
      "metadata": {
        "id": "G31pZEWzHfHY"
      },
      "source": [
        "<h3> Exemplo 9 </h3>\n",
        "\n",
        "Dada as listas abaixo:\n",
        "```\n",
        "l1 = [0, 2, 6, 4, 8, 1, 3]\n",
        "l2 = [3, 2, 1, 7, 8, 2, 5]\n",
        "```\n",
        "Crie uma nova lista que será a soma de termo a termo da l1 com a l2."
      ]
    },
    {
      "cell_type": "code",
      "metadata": {
        "colab": {
          "base_uri": "https://localhost:8080/"
        },
        "id": "I6Wp70DOHeZ9",
        "outputId": "37573c89-4863-4177-ad76-515c94f712d5"
      },
      "source": [
        "# Declarando as listas:\n",
        "l1 = [0, 2, 6, 4, 8, 1, 3]\n",
        "l2 = [3, 2, 1, 7, 8, 2, 5]\n",
        "l3 = [] # l3 = list()\n",
        "\n",
        "for i, li in enumerate(l1):\n",
        "    print(f'l1[{i}] = {li} e l2[{i}] = {l2[i]}')\n",
        "    l3.append(l1[i] + l2[i])\n",
        "\n",
        "print(l3)\n"
      ],
      "execution_count": 42,
      "outputs": [
        {
          "output_type": "stream",
          "name": "stdout",
          "text": [
            "l1[0] = 0 e l2[0] = 3\n",
            "l1[1] = 2 e l2[1] = 2\n",
            "l1[2] = 6 e l2[2] = 1\n",
            "l1[3] = 4 e l2[3] = 7\n",
            "l1[4] = 8 e l2[4] = 8\n",
            "l1[5] = 1 e l2[5] = 2\n",
            "l1[6] = 3 e l2[6] = 5\n",
            "[3, 4, 7, 11, 16, 3, 8]\n"
          ]
        }
      ]
    },
    {
      "cell_type": "markdown",
      "metadata": {
        "id": "Wn2QJJY0IXw0"
      },
      "source": [
        "<h3> Exemplo 10 </h3>\n",
        "\n",
        "Dadas as listas abaixo:\n",
        "```\n",
        "l1 = [0, 2, 6, 4, 8, 1, 3]\n",
        "l2 = [3, 2, 1, 7, 8]\n",
        "```\n",
        "Execute o mesmo código do exemplo anterior."
      ]
    },
    {
      "cell_type": "code",
      "metadata": {
        "colab": {
          "base_uri": "https://localhost:8080/",
          "height": 321
        },
        "id": "y12oeHFpIfaY",
        "outputId": "a106429a-43fd-4dbc-9c2c-c465b409c909"
      },
      "source": [
        "# Declarando as listas:\n",
        "l1 = [0, 2, 6, 4, 8, 1, 3]\n",
        "l2 = [3, 2, 1, 7, 8]\n",
        "l3 = [] # l3 = list()\n",
        "\n",
        "# for i, li in enumerate(l2):\n",
        "#     print(f'l1[{i}] = {li} e l2[{i}] = {l2[i]}')\n",
        "#     l3.append(l1[i] + l2[i])\n",
        "\n",
        "# print(l3)"
      ],
      "execution_count": 41,
      "outputs": [
        {
          "output_type": "stream",
          "name": "stdout",
          "text": [
            "l1[0] = 0 e l2[0] = 3\n",
            "l1[1] = 2 e l2[1] = 2\n",
            "l1[2] = 6 e l2[2] = 1\n",
            "l1[3] = 4 e l2[3] = 7\n",
            "l1[4] = 8 e l2[4] = 8\n"
          ]
        },
        {
          "output_type": "error",
          "ename": "IndexError",
          "evalue": "ignored",
          "traceback": [
            "\u001b[0;31m---------------------------------------------------------------------------\u001b[0m",
            "\u001b[0;31mIndexError\u001b[0m                                Traceback (most recent call last)",
            "\u001b[0;32m<ipython-input-41-8204bbf54ed0>\u001b[0m in \u001b[0;36m<module>\u001b[0;34m\u001b[0m\n\u001b[1;32m      5\u001b[0m \u001b[0;34m\u001b[0m\u001b[0m\n\u001b[1;32m      6\u001b[0m \u001b[0;32mfor\u001b[0m \u001b[0mi\u001b[0m\u001b[0;34m,\u001b[0m \u001b[0mli\u001b[0m \u001b[0;32min\u001b[0m \u001b[0menumerate\u001b[0m\u001b[0;34m(\u001b[0m\u001b[0ml1\u001b[0m\u001b[0;34m)\u001b[0m\u001b[0;34m:\u001b[0m\u001b[0;34m\u001b[0m\u001b[0;34m\u001b[0m\u001b[0m\n\u001b[0;32m----> 7\u001b[0;31m     \u001b[0mprint\u001b[0m\u001b[0;34m(\u001b[0m\u001b[0;34mf'l1[{i}] = {li} e l2[{i}] = {l2[i]}'\u001b[0m\u001b[0;34m)\u001b[0m\u001b[0;34m\u001b[0m\u001b[0;34m\u001b[0m\u001b[0m\n\u001b[0m\u001b[1;32m      8\u001b[0m     \u001b[0ml3\u001b[0m\u001b[0;34m.\u001b[0m\u001b[0mappend\u001b[0m\u001b[0;34m(\u001b[0m\u001b[0ml1\u001b[0m\u001b[0;34m[\u001b[0m\u001b[0mi\u001b[0m\u001b[0;34m]\u001b[0m \u001b[0;34m+\u001b[0m \u001b[0ml2\u001b[0m\u001b[0;34m[\u001b[0m\u001b[0mi\u001b[0m\u001b[0;34m]\u001b[0m\u001b[0;34m)\u001b[0m\u001b[0;34m\u001b[0m\u001b[0;34m\u001b[0m\u001b[0m\n\u001b[1;32m      9\u001b[0m \u001b[0;34m\u001b[0m\u001b[0m\n",
            "\u001b[0;31mIndexError\u001b[0m: list index out of range"
          ]
        }
      ]
    },
    {
      "cell_type": "markdown",
      "metadata": {
        "id": "QQXPyvoKInMA"
      },
      "source": [
        "Observe que o erro dado acima é porque tentamos acessar o `l2[5]` que na verdade não existe.\n",
        "\n",
        "Para contornarmos esse erro podemos primeiro descobrir qual é a menor lista para depois colocarmos esta dentro do `enumerate()`\n",
        "\n",
        "Mas tem um método bem mais fácil que é usar a função `zip`\n",
        "\n",
        "```\n",
        "for val1, val2 in zip(l1, l2):\n",
        "```\n",
        "Essa função fará com que o passo do for ande sempre junto para as 2 listas (ou tuplas). Assim, as variáveis `val1` e `val2` vão ter sempre os valores das respectivas posições do passo do for.\n",
        "\n",
        "<h3> Exemplo 11 </h3>\n",
        "\n",
        "Adapte o código anterior usando o zip"
      ]
    },
    {
      "cell_type": "code",
      "metadata": {
        "colab": {
          "base_uri": "https://localhost:8080/"
        },
        "id": "feJ4YwSYJnKu",
        "outputId": "d796ee40-2709-4587-dc2f-3214bf27369f"
      },
      "source": [
        "# Declarando as listas:\n",
        "l1 = [0, 2, 6, 4, 8, 1, 3]\n",
        "l2 = [3, 2, 1, 7, 8]\n",
        "l3 = []\n",
        "\n",
        "for v1, v2 in zip(l1, l2):\n",
        "    print(f'v1 = {v1} e v2 = {v2}')\n",
        "    l3.append(v1 + v2)\n",
        "\n",
        "print(l3)"
      ],
      "execution_count": 44,
      "outputs": [
        {
          "output_type": "stream",
          "name": "stdout",
          "text": [
            "v1 = 0 e v2 = 3\n",
            "v1 = 2 e v2 = 2\n",
            "v1 = 6 e v2 = 1\n",
            "v1 = 4 e v2 = 7\n",
            "v1 = 8 e v2 = 8\n",
            "[3, 4, 7, 11, 16]\n"
          ]
        }
      ]
    },
    {
      "cell_type": "markdown",
      "metadata": {
        "id": "av_vl-l4J4oC"
      },
      "source": [
        "Observe neste caso que já que as listas não possuem o mesmo tamanho o for irá rodar uma quantidade de passos equivalente a quantidade de posições da menor lista."
      ]
    },
    {
      "cell_type": "markdown",
      "metadata": {
        "id": "2mKYxsmgKVI8"
      },
      "source": [
        "# Exercícios"
      ]
    },
    {
      "cell_type": "markdown",
      "metadata": {
        "id": "cFWQ-XT5KXMd"
      },
      "source": [
        "<h2> Exercício 1 </h2>\n",
        "\n",
        "Dada as listas e tuplas abaixo:\n",
        "```\n",
        "preco = (10.9, 5.40, 8.30, 3.40)\n",
        "qtdComprada = [0, 3, 2, 4]\n",
        "```\n",
        "Calcule e mostre para o usuário o valor total da compra dele sendo que o valor total será a soma da multiplicação do preço do produto pela quantidade comprada"
      ]
    },
    {
      "cell_type": "code",
      "metadata": {
        "id": "F0-06U5wK5WC",
        "colab": {
          "base_uri": "https://localhost:8080/"
        },
        "outputId": "a88af4c0-c02a-4394-e020-8f3f6b9e45e5"
      },
      "source": [
        "preco = (10.9, 5.40, 8.30, 3.40)\n",
        "qtd = [0, 3, 2, 4]\n",
        "conta = []\n",
        "\n",
        "for v1, v2 in zip(preco, qtd):\n",
        "    conta.append(v1 * v2)\n",
        "print(conta)\n",
        "soma = sum(conta)\n",
        "print(f'R${soma:.2f}')"
      ],
      "execution_count": 53,
      "outputs": [
        {
          "output_type": "stream",
          "name": "stdout",
          "text": [
            "[0.0, 16.200000000000003, 16.6, 13.6]\n",
            "R$46.40\n"
          ]
        }
      ]
    },
    {
      "cell_type": "markdown",
      "metadata": {
        "id": "pKHED36bK5re"
      },
      "source": [
        "<h2> Exercício 2 </h2>\n",
        "Considerando o exercício anterior e considerando que as posições das listas acima são os preços respectivos de:\n",
        "\n",
        "* Lanche\n",
        "* Refri\n",
        "* Batata\n",
        "* Bombom\n",
        "\n",
        "Peça para o usuário informar a quantidade de cada produto que ele irá comprar para depois mostrar o valor total da conta dele."
      ]
    },
    {
      "cell_type": "code",
      "metadata": {
        "id": "0uhRq_ENLhgj",
        "colab": {
          "base_uri": "https://localhost:8080/"
        },
        "outputId": "caa4b7d0-6d40-4833-b680-849b78f35e43"
      },
      "source": [
        "preco = (10.9, 5.40, 8.30, 3.40)\n",
        "# qtd = [0, 3, 2, 4]\n",
        "lanche_nome = ['Lanche', 'Refri', 'Batata', 'Bombom']\n",
        "\n",
        "total = float()\n",
        "\n",
        "for name, valor in zip(lanche_nome, preco):\n",
        "    total += valor * int(input(f'Digite a quantidade do item {name}: '))\n",
        "\n",
        "print(f'O total do pedido é R${total:.2f}')    \n",
        "\n",
        "\n"
      ],
      "execution_count": 54,
      "outputs": [
        {
          "output_type": "stream",
          "name": "stdout",
          "text": [
            "Digite a quantidade do item Lanche: 5\n",
            "Digite a quantidade do item Refri: 7\n",
            "Digite a quantidade do item Batata: 5\n",
            "Digite a quantidade do item Bombom: 10\n",
            "O total do pedido é R$167.80\n"
          ]
        }
      ]
    },
    {
      "cell_type": "markdown",
      "metadata": {
        "id": "D5bx-H9wLiIY"
      },
      "source": [
        "<h2> Exercício 3 </h2>\n",
        "Faça um programa que pede para o usuário inserir um produto e salvar este produto numa lista.\n",
        "\n",
        "Caso o produto já esteja na lista informe uma mensagem de erro e não cadastre o produto duplicado."
      ]
    },
    {
      "cell_type": "code",
      "metadata": {
        "id": "o3eo0Qs3L9HU",
        "colab": {
          "base_uri": "https://localhost:8080/"
        },
        "outputId": "4dc0659e-3af0-4542-8b79-fb27d4068f14"
      },
      "source": [
        "produtos = ['Lanche', 'Refri', 'Batata', 'Bombom']\n",
        "\n",
        "produto_novo = input('Digite um novo produto: ')\n",
        "\n",
        "if produto_novo not in produtos:\n",
        "    produtos.append(produto_novo)\n",
        "    print('Produto cadastrado com sucesso!')\n",
        "else:\n",
        "    print('Produto já cadastrado')\n",
        "\n",
        "print(produtos)"
      ],
      "execution_count": 58,
      "outputs": [
        {
          "output_type": "stream",
          "name": "stdout",
          "text": [
            "Digite um novo produto: Pudim\n",
            "Produto cadastrado com sucesso!\n",
            "['Lanche', 'Refri', 'Batata', 'Bombom', 'Pudim']\n"
          ]
        }
      ]
    },
    {
      "cell_type": "code",
      "source": [],
      "metadata": {
        "id": "U6pJFH-3QqOG"
      },
      "execution_count": null,
      "outputs": []
    }
  ]
}