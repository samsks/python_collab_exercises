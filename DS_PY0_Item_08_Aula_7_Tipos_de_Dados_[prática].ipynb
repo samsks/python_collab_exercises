{
  "nbformat": 4,
  "nbformat_minor": 0,
  "metadata": {
    "colab": {
      "provenance": [],
      "toc_visible": true,
      "include_colab_link": true
    },
    "kernelspec": {
      "name": "python3",
      "display_name": "Python 3"
    },
    "language_info": {
      "name": "python"
    }
  },
  "cells": [
    {
      "cell_type": "markdown",
      "metadata": {
        "id": "bBmSVAcGi1pB"
      },
      "source": [
        "![dnc.png](data:image/png;base64,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)"
      ]
    },
    {
      "cell_type": "markdown",
      "metadata": {
        "id": "vtwKGO3VjkY8"
      },
      "source": [
        "</b> <br>Consultor: Everton Menezes <br>"
      ]
    },
    {
      "cell_type": "markdown",
      "metadata": {
        "id": "KVBf28onjXEJ"
      },
      "source": [
        "# Trabalhando com Textos"
      ]
    },
    {
      "cell_type": "markdown",
      "metadata": {
        "id": "VxMqX_u4kNB2"
      },
      "source": [
        "<h1> Strings e print( ) </h1>\n",
        "\n",
        "Textos em Python são colocados entre aspas \n",
        "`‘str’`\n",
        "\n",
        "Vamos mostrar a mensagem para o usuário:\n",
        "`Olá, mundo!`\n",
        "\n",
        "Para isso vamos usar a função:\n",
        "`print()`\n"
      ]
    },
    {
      "cell_type": "code",
      "metadata": {
        "id": "Dd4JjTDokTYF",
        "colab": {
          "base_uri": "https://localhost:8080/"
        },
        "outputId": "a2481c50-4dd1-4111-d066-0e8d289ea537"
      },
      "source": [
        "# função imprimir\n",
        "print('Olá, mundo!')\n"
      ],
      "execution_count": null,
      "outputs": [
        {
          "output_type": "stream",
          "name": "stdout",
          "text": [
            "Olá, mundo!\n"
          ]
        }
      ]
    },
    {
      "cell_type": "code",
      "source": [
        "print('Olá, mundo!')"
      ],
      "metadata": {
        "id": "YyzqXGZni8sE",
        "colab": {
          "base_uri": "https://localhost:8080/"
        },
        "outputId": "c5ca3eac-e156-49a5-aa89-e807092b9a94"
      },
      "execution_count": null,
      "outputs": [
        {
          "output_type": "stream",
          "name": "stdout",
          "text": [
            "Olá, mundo!\n"
          ]
        }
      ]
    },
    {
      "cell_type": "markdown",
      "metadata": {
        "id": "NF3AaaQhkxYw"
      },
      "source": [
        "<h1> Entendendo a Estrutura </h1>\n",
        "\n",
        "`print('Olá Mundo!')`\n",
        "> string [Tipo de Dado] = 'Olá Mundo' = é uma cadeia de caracteres `‘str’`\n",
        "\n",
        "> `print( )` [Função] = imprime para o usuário o que estiver dentro do: ( )\n",
        "\n",
        "> `#` [Comentário] = após o `#` tudo é desprezado na linha\n",
        "\n",
        "\n",
        "\n",
        "\n",
        "\n"
      ]
    },
    {
      "cell_type": "code",
      "metadata": {
        "id": "EUv1csvxmYL9",
        "colab": {
          "base_uri": "https://localhost:8080/"
        },
        "outputId": "275fe1a1-e812-47f1-b41b-890170289121"
      },
      "source": [
        "# outros exemplos\n",
        "print('Olá, mundo')\n",
        "print(\"Olá mundo com aspas duplas\")\n",
        "print()\n",
        "print()\n",
        "print('!@%$#')"
      ],
      "execution_count": null,
      "outputs": [
        {
          "output_type": "stream",
          "name": "stdout",
          "text": [
            "Olá, mundo\n",
            "Olá mundo com aspas duplas\n",
            "\n",
            "\n",
            "!@%$#\n"
          ]
        }
      ]
    },
    {
      "cell_type": "markdown",
      "metadata": {
        "id": "t4LlCTuEmubH"
      },
      "source": [
        "# Trabalhando com números"
      ]
    },
    {
      "cell_type": "markdown",
      "metadata": {
        "id": "amRRm3GAm_s_"
      },
      "source": [
        "Números em Python são colocados direto e podem ou não ter casas decimais.\n",
        "\n",
        "> 7 = número inteiro = `'int'`\n",
        "\n",
        "> 7.2 = número com \"vírgula\" = `'float'`\n",
        "\n",
        "**ATENÇÃO: o separador decimal no Python é o ponto** `'.'`"
      ]
    },
    {
      "cell_type": "code",
      "metadata": {
        "id": "VuBw5xa1nQ6n",
        "colab": {
          "base_uri": "https://localhost:8080/"
        },
        "outputId": "0410d2ed-82c8-4850-8b40-4a5d95398800"
      },
      "source": [
        "# número do tipo int\n",
        "print(7)"
      ],
      "execution_count": null,
      "outputs": [
        {
          "output_type": "stream",
          "name": "stdout",
          "text": [
            "7\n"
          ]
        }
      ]
    },
    {
      "cell_type": "code",
      "metadata": {
        "id": "1D8fRrHZnVeP",
        "colab": {
          "base_uri": "https://localhost:8080/"
        },
        "outputId": "6827c828-0697-4c76-9f20-b4f804075e78"
      },
      "source": [
        "# número do tipo float\n",
        "print(7.2)"
      ],
      "execution_count": null,
      "outputs": [
        {
          "output_type": "stream",
          "name": "stdout",
          "text": [
            "7.2\n"
          ]
        }
      ]
    },
    {
      "cell_type": "markdown",
      "metadata": {
        "id": "ir03LUgKnfgz"
      },
      "source": [
        "<h1> Somando números </h1>\n",
        "\n",
        "Basta usar o sinal de `'+'`"
      ]
    },
    {
      "cell_type": "code",
      "metadata": {
        "id": "DGDBd__yn0X0",
        "colab": {
          "base_uri": "https://localhost:8080/"
        },
        "outputId": "1e553050-5f08-478c-e6b1-24d3d627f525"
      },
      "source": [
        "# somando 2 int\n",
        "print(5 + 4)"
      ],
      "execution_count": null,
      "outputs": [
        {
          "output_type": "stream",
          "name": "stdout",
          "text": [
            "9\n"
          ]
        }
      ]
    },
    {
      "cell_type": "code",
      "metadata": {
        "id": "KwIRVQo9n6uD",
        "colab": {
          "base_uri": "https://localhost:8080/"
        },
        "outputId": "0a705baf-b797-4ea4-c73f-243001fad764"
      },
      "source": [
        "# somando 2 float\n",
        "print(5.1 + 4.1)"
      ],
      "execution_count": null,
      "outputs": [
        {
          "output_type": "stream",
          "name": "stdout",
          "text": [
            "9.2\n"
          ]
        }
      ]
    },
    {
      "cell_type": "code",
      "metadata": {
        "id": "dJZ5emY7oTtW",
        "colab": {
          "base_uri": "https://localhost:8080/"
        },
        "outputId": "0c9f1797-42c4-44ec-8ccc-830cb69f0727"
      },
      "source": [
        "# e se eu colocar os números entre \"aspas\"?\n",
        "print('7'+'2')"
      ],
      "execution_count": null,
      "outputs": [
        {
          "output_type": "stream",
          "name": "stdout",
          "text": [
            "72\n"
          ]
        }
      ]
    },
    {
      "cell_type": "markdown",
      "metadata": {
        "id": "xjrqPIanodQk"
      },
      "source": [
        "<h2> Porque o valor acima deu 72 e não 9? </h2>\n",
        "\n",
        "Lembre-se: Se tem **aspas** então é **string**\n",
        "\n",
        "Se é string o símbolo de `+` **concatena** as strings, ou seja, junta uma com a outra!!!\n",
        "\n",
        "`'João' + ' Silva' = 'João Silva'`"
      ]
    },
    {
      "cell_type": "code",
      "metadata": {
        "id": "lJ-M_i0hpF9B",
        "colab": {
          "base_uri": "https://localhost:8080/"
        },
        "outputId": "f6902ef9-ee05-49bc-8faa-5520dcfe8906"
      },
      "source": [
        "# print do João Silva\n",
        "print('João' + ' Silva')"
      ],
      "execution_count": null,
      "outputs": [
        {
          "output_type": "stream",
          "name": "stdout",
          "text": [
            "João Silva\n"
          ]
        }
      ]
    },
    {
      "cell_type": "markdown",
      "metadata": {
        "id": "GuGQcMeBpbVp"
      },
      "source": [
        "<h2> Outras maneiras de se usar o print( ) </h2>\n",
        "\n",
        "Para se juntar várias informações em um print só, precisamos concatenar nossas frases e valores.\n",
        "Temos 2 maneiras de fazer:\n",
        "\n",
        "> `print('Frase 1' + 'Frase 2' + ...)`\n",
        "\n",
        "> `print('Frase 1','Frase 2', + ...)`"
      ]
    },
    {
      "cell_type": "code",
      "metadata": {
        "id": "qN8rAnxsp5fx",
        "colab": {
          "base_uri": "https://localhost:8080/"
        },
        "outputId": "ebf3f9c3-5e5e-43cc-8417-731bc3b8b8d6"
      },
      "source": [
        "# Exemplos de print com o +\n",
        "print(\"Meu nome é\" + \" Everton\")\n",
        "\n",
        "# Exemplos de print com a ,\n",
        "print('Meu nome é', 'Everton')\n",
        "\n"
      ],
      "execution_count": null,
      "outputs": [
        {
          "output_type": "stream",
          "name": "stdout",
          "text": [
            "Meu nome é Everton\n",
            "Meu nome é Everton\n"
          ]
        }
      ]
    },
    {
      "cell_type": "code",
      "metadata": {
        "id": "BcMgBAZhq854",
        "colab": {
          "base_uri": "https://localhost:8080/"
        },
        "outputId": "fe59f2d9-9761-41e6-f9fe-b2b3d9b3449f"
      },
      "source": [
        "# Exemplo de print com string e números usando ,\n",
        "print('eu tenho', 3, 'cachorros')"
      ],
      "execution_count": null,
      "outputs": [
        {
          "output_type": "stream",
          "name": "stdout",
          "text": [
            "eu tenho 3 cachorros\n"
          ]
        }
      ]
    },
    {
      "cell_type": "code",
      "metadata": {
        "id": "dEkIEyilrGo-"
      },
      "source": [
        "# Exemplo de print com string e números usando +\n",
        "\n",
        "# 'eu tenho' + 3\n",
        "# print('eu tenho ' + 3 + ' cachorros')"
      ],
      "execution_count": null,
      "outputs": []
    },
    {
      "cell_type": "markdown",
      "metadata": {
        "id": "sab2aN3GrW4X"
      },
      "source": [
        "<h2> Explicação do Porquê do erro acima </h2>\n",
        "\n",
        "Quando usamos a função `print( , , , )` separando com vírgulas a função está plotando 1 termo de cada vez, seja ele string, seja ele int, seja ele float.\n",
        "\n",
        "Quando usamos a função `print( + + + )` separando com soma a gente está somando os valores dentro do print antes plotar. E a função soma tem funcionalidades diferentes dependendo do Tipo de Dado que estamos trabalhando.\n",
        "\n",
        "> int + int -> soma\n",
        "\n",
        "> float + float -> soma\n",
        "\n",
        "> int + float -> soma\n",
        "\n",
        "> str + str -> concatenar\n",
        "\n",
        "> str + int -> ***erro***"
      ]
    },
    {
      "cell_type": "markdown",
      "metadata": {
        "id": "U5O6qxXasxB_"
      },
      "source": [
        "# Trabalhando com variáveis"
      ]
    },
    {
      "cell_type": "markdown",
      "metadata": {
        "id": "TEIHq4hus6a4"
      },
      "source": [
        "<h1> Declarando Variáveis </h1>\n",
        "\n",
        "Da mesma maneira que em estudo de equações (`x + 7 = 8`), tínhamos letras que representavam números, em programação elas são chamadas de variáveis!!!\n",
        "\n",
        "O nome é variável pois durante os nossos programas elas podem variar de valor. \n",
        "\n",
        "Utilizamos as variáveis para armazenar valores (sejam eles do tipo texto ou numérico) para que possamos utilizar várias vezes durante o mesmo programa.\n",
        "\n",
        "Também podemos utilizar para salvar um valor que o usuário fornece para gente.\n",
        "\n",
        "<h2> Como declarar? </h2>\n",
        "\n",
        "`nomeDaVariavel = valorDaVariavel`\n",
        "\n",
        "<h3> Exemplos </h3>\n",
        "\n",
        "> `lanche = 'x-burguer'`\n",
        "\n",
        "*lê-se: a variável lanche recebe o valor 'x-burguer' do tipo str*\n",
        "\n",
        "> `preco = 10.9`\n",
        "\n",
        "> `qtd = 2`\n",
        "\n",
        "<h3> Regras!!! </h3>\n",
        "\n",
        "Variáveis não podem ter:\n",
        "* Começar com número ou Caractere Especial\n",
        "\n",
        "<h3> Boas práticas!!! </h3>\n",
        "\n",
        "* O nome das variáveis deve ser claro para qualquer programador que ler o seu programa\n",
        "\n",
        "> Não use: valor - Use: lanchePreco\n",
        "\n",
        "* Não use caractere especial nos nomes das variáveis\n",
        "\n",
        "> Não use: preço - Use: preco\n",
        "\n",
        "* O Python diferencia letras minúsculas e maiúsculas no nome das variáveis, então cuidado!\n",
        "\n",
        "> `lanche != Lanche != LANCHE`\n",
        "\n",
        "* Use as variáveis com letra minúscula e separe as palavras por letra maiúscula ou underline '_'\n",
        "\n",
        "> `lanchePreco`\n",
        "\n",
        "> `lanche_Preco`\n",
        "\n",
        "* Em variáveis com nomes grandes (como a acima), primeiro coloque o nome do Objeto para depois a da característica\n",
        "\n",
        "> `lanchePreco`, pois Preço é uma característica (atributo) do Lanche. "
      ]
    },
    {
      "cell_type": "code",
      "metadata": {
        "id": "elsHbnmdwwrX"
      },
      "source": [
        "# Vamos fazer algumas contas:\n",
        "\n",
        "# Declarando as variáveis (atribuindo valores):\n",
        "lanche_preco = 10.9\n",
        "batata_preco = 5.9\n",
        "refri_preco = 3 "
      ],
      "execution_count": null,
      "outputs": []
    },
    {
      "cell_type": "code",
      "metadata": {
        "id": "1ep14b65xIul",
        "colab": {
          "base_uri": "https://localhost:8080/"
        },
        "outputId": "a4045ad6-2ed1-4f51-9c05-9ecc1eecfdd2"
      },
      "source": [
        "# Quanto custa pedir um Lanche e uma Batata?\n",
        "print(lanche_preco + batata_preco)"
      ],
      "execution_count": null,
      "outputs": [
        {
          "output_type": "stream",
          "name": "stdout",
          "text": [
            "16.8\n"
          ]
        }
      ]
    },
    {
      "cell_type": "code",
      "metadata": {
        "id": "Fc7m8lMKxVij",
        "colab": {
          "base_uri": "https://localhost:8080/"
        },
        "outputId": "9f9189d3-6d5b-48f5-b3fc-8a63a2692a4a"
      },
      "source": [
        "# Quanto custa pedir um Lanche e um Refri?\n",
        "print(lanche_preco + refri_preco)"
      ],
      "execution_count": null,
      "outputs": [
        {
          "output_type": "stream",
          "name": "stdout",
          "text": [
            "13.9\n"
          ]
        }
      ]
    },
    {
      "cell_type": "code",
      "metadata": {
        "id": "xJgEMPZRxo6t",
        "colab": {
          "base_uri": "https://localhost:8080/"
        },
        "outputId": "c8804ff4-4fd9-4f83-d794-73592ca0c2d5"
      },
      "source": [
        "# Podemos atribuir uma variável para a conta total do pedido?\n",
        "pedido_valor_total = lanche_preco + batata_preco + refri_preco\n",
        "print(pedido_valor_total)"
      ],
      "execution_count": null,
      "outputs": [
        {
          "output_type": "stream",
          "name": "stdout",
          "text": [
            "19.8\n"
          ]
        }
      ]
    },
    {
      "cell_type": "markdown",
      "metadata": {
        "id": "wNFgVBmKx55H"
      },
      "source": [
        "<h2> Podemos fazer impressão composta? </h2>\n",
        "\n",
        "Para mostrarmos melhor o resultado para o nosso cliente é comum utilizarmos a função print com strings e ints e floats misturados.\n",
        "\n",
        "Vamos ver?"
      ]
    },
    {
      "cell_type": "code",
      "metadata": {
        "id": "sm668AThyXyk",
        "colab": {
          "base_uri": "https://localhost:8080/"
        },
        "outputId": "e2175b82-3a0c-47fe-bb64-6b9435e0b591"
      },
      "source": [
        "# Quanto fica pedir um Lanche e uma Batata?\n",
        "# Considere a forma de pagamento pelo cartão\n",
        "pagamento_forma = 'Cartão'\n",
        "pedido_total = lanche_preco + batata_preco\n",
        "\n",
        "print('Lanche no valor de: R$', lanche_preco, 'e uma batata de: R$', batata_preco,'. Totalizando: R$', pedido_total, '. Meio de pagamento:', pagamento_forma)\n"
      ],
      "execution_count": null,
      "outputs": [
        {
          "output_type": "stream",
          "name": "stdout",
          "text": [
            "Lanche no valor de: R$ 10.9 e uma batata de: R$ 5.9 . Totalizando: R$ 16.8 . Meio de pagamento: Cartão\n"
          ]
        }
      ]
    },
    {
      "cell_type": "markdown",
      "metadata": {
        "id": "9nYE6znazShr"
      },
      "source": [
        "## Pegando Dados do Usuário"
      ]
    },
    {
      "cell_type": "markdown",
      "metadata": {
        "id": "tLCO7dL7zcG7"
      },
      "source": [
        "<h1> Função input( ) </h1>\n",
        "\n",
        "Para melhorarmos a interface com o usuário podemos pedir para que ele insira os valores de cada variável usando o `input( )`\n",
        "\n",
        "Para usarmos precisamos atribuir a resposta do usuário a uma variável e também colocar uma frase que indique para o usuário o que ele deve digitar:\n",
        "\n",
        "<h3> Exemplo </h3>\n",
        "\n",
        "`lancheNome = input('Qual lanche você quer?')`"
      ]
    },
    {
      "cell_type": "code",
      "metadata": {
        "id": "rb-KPSYOzYoY",
        "colab": {
          "base_uri": "https://localhost:8080/"
        },
        "outputId": "ddb41e96-b42d-4bbb-b7b3-ec823341ebbd"
      },
      "source": [
        "# Peça para o usuário falar qual lanche ele quer pedir:\n",
        "lanche_nome = input('Qual lanche você quer? ')\n",
        "print('Você pediu:', lanche_nome)"
      ],
      "execution_count": null,
      "outputs": [
        {
          "output_type": "stream",
          "name": "stdout",
          "text": [
            "Qual lanche você quer? X-Picanha\n",
            "Você pediu: X-Picanha\n"
          ]
        }
      ]
    },
    {
      "cell_type": "markdown",
      "metadata": {
        "id": "vLgvdbK_0eoG"
      },
      "source": [
        "# Detectando tipo de Variáveis"
      ]
    },
    {
      "cell_type": "markdown",
      "metadata": {
        "id": "QWA628P80nrT"
      },
      "source": [
        "<h1> Função: type( ) </h1>\n",
        "\n",
        "No input e em outros casos podemos nos deparar com Tipos de Dados indesejados. Para isso podemos validar utilizando a função: `type( )`"
      ]
    },
    {
      "cell_type": "code",
      "metadata": {
        "id": "XeqCr8_s03Vy",
        "colab": {
          "base_uri": "https://localhost:8080/"
        },
        "outputId": "d61a8edb-2053-41d2-ecca-5397b49f0e67"
      },
      "source": [
        "# Use o type em uma String\n",
        "\n",
        "type('Teste')"
      ],
      "execution_count": null,
      "outputs": [
        {
          "output_type": "execute_result",
          "data": {
            "text/plain": [
              "str"
            ]
          },
          "metadata": {},
          "execution_count": 25
        }
      ]
    },
    {
      "cell_type": "code",
      "metadata": {
        "id": "niziOq7J0-ie",
        "colab": {
          "base_uri": "https://localhost:8080/"
        },
        "outputId": "0cf35c9b-1a14-46cb-cd93-5f79dc5fb016"
      },
      "source": [
        "# Use o type em um Float\n",
        "type(4.8)"
      ],
      "execution_count": null,
      "outputs": [
        {
          "output_type": "execute_result",
          "data": {
            "text/plain": [
              "float"
            ]
          },
          "metadata": {},
          "execution_count": 26
        }
      ]
    },
    {
      "cell_type": "code",
      "metadata": {
        "id": "6AD1U5gK1HA5",
        "colab": {
          "base_uri": "https://localhost:8080/"
        },
        "outputId": "6d8e4ad7-0661-4d44-c93b-a2a7fab7bfba"
      },
      "source": [
        "# Use o type em um Int\n",
        "type(86)"
      ],
      "execution_count": null,
      "outputs": [
        {
          "output_type": "execute_result",
          "data": {
            "text/plain": [
              "int"
            ]
          },
          "metadata": {},
          "execution_count": 27
        }
      ]
    },
    {
      "cell_type": "code",
      "metadata": {
        "id": "6eFbY7ZT1Mfy",
        "colab": {
          "base_uri": "https://localhost:8080/"
        },
        "outputId": "5216ab95-698e-4ab9-9ad7-4d82b63de9e1"
      },
      "source": [
        "# Use o type em 2 variáveis seguidas:\n",
        "print(type('str'), type(5464))\n",
        "\n",
        "type('str') \n",
        "type(5464)\n"
      ],
      "execution_count": null,
      "outputs": [
        {
          "output_type": "stream",
          "name": "stdout",
          "text": [
            "<class 'str'> <class 'int'>\n"
          ]
        },
        {
          "output_type": "execute_result",
          "data": {
            "text/plain": [
              "int"
            ]
          },
          "metadata": {},
          "execution_count": 30
        }
      ]
    },
    {
      "cell_type": "markdown",
      "metadata": {
        "id": "db_i_nAV1VIf"
      },
      "source": [
        "<h3> Por que no exemplo acima só apareceu o tipo de uma variável? E por que foi somente da última? </h3>\n",
        "\n",
        "Quando usamos o type direto ele só vai mostrar no terminal o tipo da última variável. Se quisermos mostrar mais do que uma temos que usar uma função que consegue mostrar várias coisas para o usuário de uma só vez:\n",
        "\n",
        "O `print( )`"
      ]
    },
    {
      "cell_type": "code",
      "metadata": {
        "id": "FzofL9QN12FF",
        "colab": {
          "base_uri": "https://localhost:8080/"
        },
        "outputId": "f55556e7-cc26-4723-c2c0-6792a4a08a29"
      },
      "source": [
        "# Use o type em 2 variáveis seguidas:\n",
        "print(type(4.7))\n",
        "print(type('str'))"
      ],
      "execution_count": null,
      "outputs": [
        {
          "output_type": "stream",
          "name": "stdout",
          "text": [
            "<class 'float'>\n",
            "<class 'str'>\n"
          ]
        }
      ]
    },
    {
      "cell_type": "markdown",
      "metadata": {
        "id": "WzCzFPVm2BVf"
      },
      "source": [
        "Quando usamos várias funções uma dentro da outra o Python sempre irá executar as funções de mais de dentro primeiro para depois as mais de fora...\n",
        "\n",
        "Vamos usar uma variável de auxílio para nos ajudar nesse raciocínio:"
      ]
    },
    {
      "cell_type": "code",
      "metadata": {
        "id": "r0pnmx5O2RII",
        "colab": {
          "base_uri": "https://localhost:8080/"
        },
        "outputId": "8ec344a6-fc14-469c-cf37-ae5f53676f64"
      },
      "source": [
        "# Use o type em 2 variáveis seguidas:\n",
        "print(type(lanche_preco))\n",
        "print(type(pagamento_forma))"
      ],
      "execution_count": null,
      "outputs": [
        {
          "output_type": "stream",
          "name": "stdout",
          "text": [
            "<class 'float'>\n",
            "<class 'str'>\n"
          ]
        }
      ]
    },
    {
      "cell_type": "code",
      "metadata": {
        "id": "eF1Xly-D2m_G",
        "colab": {
          "base_uri": "https://localhost:8080/"
        },
        "outputId": "605d2c5a-2701-4d19-f446-a1bf51afd443"
      },
      "source": [
        "# Peça para o usuário digitar um número e veja o tipo dessa variável\n",
        "numero = input ('Por favor, digite um número: ')\n",
        "\n",
        "print(type(numero))\n",
        "\n",
        "\n",
        "\n"
      ],
      "execution_count": null,
      "outputs": [
        {
          "output_type": "stream",
          "name": "stdout",
          "text": [
            "Por favor, digite um número: 879\n",
            "<class 'str'>\n"
          ]
        }
      ]
    },
    {
      "cell_type": "markdown",
      "metadata": {
        "id": "kcxjtJUv24Ik"
      },
      "source": [
        "<h3> Mas por que o tipo da variável do exemplo acima não está como numérica? </h3>\n",
        "\n",
        "Sempre que o usuário inputa algum valor o Python vai entender sempre como string. Para contornarmos esse problema precisamos aprender a como converter variáveis de um tipo para outro.\n",
        "\n",
        "Mas isso vai ficar para as próximas aulas"
      ]
    },
    {
      "cell_type": "markdown",
      "metadata": {
        "id": "oPLH_Yux3UNA"
      },
      "source": [
        "## Tipo de Dado Booleano\n",
        "\n",
        "É uma variável que sempre terá valor de Verdadeiro ou Falso:\n",
        "\n",
        "> `True`\n",
        "\n",
        "> `False`\n",
        "\n",
        "Obs.: Foco na letra maiúscula hein!!!"
      ]
    },
    {
      "cell_type": "code",
      "metadata": {
        "id": "crLIh07r3wg_",
        "colab": {
          "base_uri": "https://localhost:8080/"
        },
        "outputId": "4024a265-92cd-4d48-d35d-142b2d38387b"
      },
      "source": [
        "# Crie 2 variáveis: pagamentoCartao e pagamentoDinheiro, \n",
        "# atribua valores Booleanos a ela e verifique o tipo da variável\n",
        "x = True\n",
        "y = False\n",
        "print (type(x), type(y))"
      ],
      "execution_count": null,
      "outputs": [
        {
          "output_type": "stream",
          "name": "stdout",
          "text": [
            "<class 'bool'> <class 'bool'>\n"
          ]
        }
      ]
    },
    {
      "cell_type": "markdown",
      "metadata": {
        "id": "5UuWFYKg4Xwf"
      },
      "source": [
        "# Resumão"
      ]
    },
    {
      "cell_type": "markdown",
      "metadata": {
        "id": "Z-HaVSnv4cke"
      },
      "source": [
        "<h1> Tipos de Dados </h1>\n",
        "\n",
        "> str [cadeia de caracteres] = 'Py', '7', “@3ac“\n",
        "\n",
        "> int [inteiro] = 5 , 7 , 2 \t\t\n",
        "\n",
        "> float [real] = 5.2 , 7.0 , 3.14 \n",
        "\n",
        "> bool [booleano] = True , False\n",
        "\n",
        "<h1> Funções </h2>\n",
        "\n",
        "> print( ) = imprime um valor ou frase\n",
        "\n",
        "> type( ) = verifica o Tipo de Dado de uma variável\n",
        "\n",
        "> input( ) = pede para o usuário fornecer um valor (str)\n"
      ]
    },
    {
      "cell_type": "markdown",
      "metadata": {
        "id": "jxXIuikF457a"
      },
      "source": [
        "# Exercícios"
      ]
    },
    {
      "cell_type": "markdown",
      "metadata": {
        "id": "K-vFhRNl495T"
      },
      "source": [
        "### Exercício 1"
      ]
    },
    {
      "cell_type": "markdown",
      "metadata": {
        "id": "VLGdJr8o8tXE"
      },
      "source": [
        "<h3> Parte 1 </h3>\n",
        "\n",
        "Crie 3 variáveis:\n",
        "\n",
        "`nomePrimeiro`, `nomeMeio`, `nomeUltimo`\n",
        "\n",
        "Atribua um valor para cada uma delas e imprima a seguinte frase para o usuário:\n",
        "\n",
        "`\"Everton Garcia Menezes, seja muito bem vindo a DNC\"`\n",
        "\n",
        "Não precisa usar input( )"
      ]
    },
    {
      "cell_type": "markdown",
      "metadata": {
        "id": "25azvzj98aDt"
      },
      "source": [
        "<h3> Resultado Esperado </h3>\n",
        "\n",
        "![image.png](data:image/png;base64,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)"
      ]
    },
    {
      "cell_type": "code",
      "metadata": {
        "id": "FgrM5eFH7liz",
        "colab": {
          "base_uri": "https://localhost:8080/"
        },
        "outputId": "cfc9c844-66ff-4239-a2ab-269ee3537e04"
      },
      "source": [
        "# Exercicio 1 Parte 1\n",
        "nome_primeiro = 'Samuel'\n",
        "nome_ultimo = 'Vieira'\n",
        "nome_meio = 'Meireles'\n",
        "\n",
        "print(f'{nome_primeiro} {nome_meio} {nome_ultimo}, seja bem vindo(a) DNC')"
      ],
      "execution_count": null,
      "outputs": [
        {
          "output_type": "stream",
          "name": "stdout",
          "text": [
            "Samuel Meireles Vieira, seja bem vindo(a) DNC\n"
          ]
        }
      ]
    },
    {
      "cell_type": "markdown",
      "metadata": {
        "id": "YuoZNw808xCR"
      },
      "source": [
        "<h3> Parte 2 </h3>\n",
        "\n",
        "Agora peça para o usuário digitar as 3 variáveis antes de mostrar a mesma frase da parte 1."
      ]
    },
    {
      "cell_type": "markdown",
      "metadata": {
        "id": "1DqdPd4Z9Y_2"
      },
      "source": [
        "<h3> Resultado esperado </h3>\n",
        "\n",
        "![image.png](data:image/png;base64,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)"
      ]
    },
    {
      "cell_type": "code",
      "metadata": {
        "colab": {
          "base_uri": "https://localhost:8080/"
        },
        "id": "QQQhRmDX8_sk",
        "outputId": "6af39449-0ee0-418b-c869-0c848f8d0f95"
      },
      "source": [
        "# Exercicio 1 Parte 2\n",
        "nome_primeiro = input('Qual é o seu primeiro nome? ')\n",
        "nome_meio = input('Qual é o seu nome do meio? ')\n",
        "nome_ultimo = input('Qual é o seu ultimo sobrenome? ')\n",
        "\n",
        "print(f'{nome_primeiro} {nome_meio} {nome_ultimo}, seja bem vindo(a) DNC')\n",
        "\n"
      ],
      "execution_count": null,
      "outputs": [
        {
          "output_type": "stream",
          "name": "stdout",
          "text": [
            "Qual é o seu primeiro nome? Samuel\n",
            "Qual é o seu nome do meio? Meireles\n",
            "Qual é o seu ultimo sobrenome? Vieira\n",
            "Samuel Meireles Vieira, seja bem vindo(a) DNC\n"
          ]
        }
      ]
    },
    {
      "cell_type": "markdown",
      "metadata": {
        "id": "dGK4bS_T9q-8"
      },
      "source": [
        "### Exercício 2"
      ]
    },
    {
      "cell_type": "markdown",
      "metadata": {
        "id": "63M-mOrmAD0T"
      },
      "source": [
        "1. Vamos criar nosso **primeiro script** 💪, que: \n",
        "\n",
        " 1. Armazene em uma variavel o **nome do cliente**, a variável precisa se chamar **`cliente_nome`** e o nome do cliente você pode usar sua criatividade.\n",
        "\n",
        " 2. Crie uma variável que armazene a **idade do cliente**, a variável precisa se chamar **`cliente_idade`**.\n",
        "\n",
        " 3. Exiba na tela as 2 variáveis e apenas uma variável por linha. Ex: \"O nome do Cliente é: Nathan Pereira\"."
      ]
    },
    {
      "cell_type": "markdown",
      "metadata": {
        "id": "bc0h5i8xAb_-"
      },
      "source": [
        "<h3> Resultado Esperado </h3>\n",
        "\n",
        "![image.png](data:image/png;base64,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)"
      ]
    },
    {
      "cell_type": "code",
      "metadata": {
        "id": "i25OmgOdATOE",
        "colab": {
          "base_uri": "https://localhost:8080/"
        },
        "outputId": "ced4aeef-71e4-4b7d-c5d0-f0bf2d08fee7"
      },
      "source": [
        "# Exercicio 2 Parte 1\n",
        "cliente_nome = 'Samuel Vieira'\n",
        "cliente_idade = 31\n",
        "print(f'O nome do cliente é: {cliente_nome}')\n",
        "print(f'A idade do cliente é: {cliente_idade}')"
      ],
      "execution_count": null,
      "outputs": [
        {
          "output_type": "stream",
          "name": "stdout",
          "text": [
            "O nome do cliente é: Samuel Vieira\n",
            "A idade do cliente é: 31\n"
          ]
        }
      ]
    },
    {
      "cell_type": "markdown",
      "metadata": {
        "id": "xc1xbJiKAj3K"
      },
      "source": [
        " 2. Agora que você já criou seu primeiro script vamos aumentar a dificuldade!   \n",
        "  1. Agora é o **cliente** que vai colocar as informações! Crie uma variável que **receba** como `input` o **nome** e a **idade do cliente**!\n",
        "  2. Para ajudar o usuário **exiba**, essas variáveis na tela. \n"
      ]
    },
    {
      "cell_type": "markdown",
      "metadata": {
        "id": "pC5Z4j0qA1Ei"
      },
      "source": [
        "<h3> Resultado Esperado </h3>\n",
        "\n",
        "![image.png](data:image/png;base64,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)"
      ]
    },
    {
      "cell_type": "code",
      "metadata": {
        "id": "ivvN0kJQArGD",
        "colab": {
          "base_uri": "https://localhost:8080/"
        },
        "outputId": "47d19bcc-ac1b-442c-d1a7-27ac5e7aa8a3"
      },
      "source": [
        "# Exercicio 2 Parte 2\n",
        "teste = 'nome'\n",
        "cliente_nome = input(f'Digite seu {teste}: ')\n",
        "cliente_idade = input('Digite sua idade: ')\n",
        "print(f'O nome do cliente é: {cliente_nome}')\n",
        "print(f'A idade do cliente é: {cliente_idade}')"
      ],
      "execution_count": null,
      "outputs": [
        {
          "output_type": "stream",
          "name": "stdout",
          "text": [
            "Digite seu nome: Samuel\n",
            "Digite sua idade: 32\n",
            "O nome do cliente é: Samuel\n",
            "A idade do cliente é: 32\n"
          ]
        }
      ]
    },
    {
      "cell_type": "markdown",
      "metadata": {
        "id": "0a8S0o5aA8RA"
      },
      "source": [
        " 3. Vamos brincar com mais variáveis agora?!   \n",
        "  1. Crie uma variável do tipo `FLOAT` que vai armazenar o **valor do produto**,  que receberá o valor de **`25.30`**!\n",
        "  2. Crie uma variável do tipo `BOOL` que vai armazenar se ele **é ou não** um cliente premium, recebendo o valor de `True`.\n",
        "  3. Agora exiba essas variáveis na tela.\n",
        "  4. Exiba também o tipo dessas variáveis."
      ]
    },
    {
      "cell_type": "markdown",
      "metadata": {
        "id": "fgXqUfZnA_1X"
      },
      "source": [
        "<h3> Resultado Esperado </h3>\n",
        "\n",
        "![image.png](data:image/png;base64,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)"
      ]
    },
    {
      "cell_type": "code",
      "metadata": {
        "id": "ahefndkCBGJh",
        "colab": {
          "base_uri": "https://localhost:8080/"
        },
        "outputId": "54d36529-fef4-46e3-f8c0-7106ca12efae"
      },
      "source": [
        "# Exercicio 2 Parte 3\n",
        "produto_valor = 25.30\n",
        "is_premium = True\n",
        "\n",
        "type_produto_valor = type(produto_valor)\n",
        "type_is_premium = type(is_premium)\n",
        "\n",
        "print(f'O valor do produto é: {produto_valor}')\n",
        "print(f'O tipo da variável produto_valor é: {type_produto_valor}')\n",
        "print(f'O cliente é premium? {is_premium}')\n",
        "print(f'O tipo da variável is_premium é: {type_is_premium}')\n",
        "\n",
        "\n",
        "\n"
      ],
      "execution_count": null,
      "outputs": [
        {
          "output_type": "stream",
          "name": "stdout",
          "text": [
            "O valor do produto é: 25.3\n",
            "O tipo da variável produto_valor é: <class 'float'>\n",
            "O cliente é premium? True\n",
            "O tipo da variável is_premium é: <class 'bool'>\n"
          ]
        }
      ]
    },
    {
      "cell_type": "markdown",
      "metadata": {
        "id": "bS-L6u-nJqks"
      },
      "source": [
        "# Easter Egg"
      ]
    },
    {
      "cell_type": "code",
      "metadata": {
        "id": "kPntYAx3Ju23",
        "colab": {
          "base_uri": "https://localhost:8080/"
        },
        "outputId": "757abe50-727f-4a97-f3ae-46454913c86c"
      },
      "source": [
        "# Rode esta função:\n",
        "import this"
      ],
      "execution_count": null,
      "outputs": [
        {
          "output_type": "stream",
          "name": "stdout",
          "text": [
            "The Zen of Python, by Tim Peters\n",
            "\n",
            "Beautiful is better than ugly.\n",
            "Explicit is better than implicit.\n",
            "Simple is better than complex.\n",
            "Complex is better than complicated.\n",
            "Flat is better than nested.\n",
            "Sparse is better than dense.\n",
            "Readability counts.\n",
            "Special cases aren't special enough to break the rules.\n",
            "Although practicality beats purity.\n",
            "Errors should never pass silently.\n",
            "Unless explicitly silenced.\n",
            "In the face of ambiguity, refuse the temptation to guess.\n",
            "There should be one-- and preferably only one --obvious way to do it.\n",
            "Although that way may not be obvious at first unless you're Dutch.\n",
            "Now is better than never.\n",
            "Although never is often better than *right* now.\n",
            "If the implementation is hard to explain, it's a bad idea.\n",
            "If the implementation is easy to explain, it may be a good idea.\n",
            "Namespaces are one honking great idea -- let's do more of those!\n"
          ]
        }
      ]
    }
  ]
}
